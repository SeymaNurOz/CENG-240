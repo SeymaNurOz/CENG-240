{
  "nbformat": 4,
  "nbformat_minor": 0,
  "metadata": {
    "colab": {
      "name": "Workbook 6-7-debugging-scientific-lib.ipynb",
      "provenance": [],
      "collapsed_sections": []
    },
    "kernelspec": {
      "name": "python3",
      "display_name": "Python 3"
    },
    "language_info": {
      "name": "python"
    }
  },
  "cells": [
    {
      "cell_type": "code",
      "metadata": {
        "id": "grTqgOPZbZj0"
      },
      "source": [
        "#ERROR HANDLING AND DEBUGGING"
      ],
      "execution_count": null,
      "outputs": []
    },
    {
      "cell_type": "code",
      "metadata": {
        "colab": {
          "base_uri": "https://localhost:8080/"
        },
        "id": "dL8M8m6eTJRk",
        "outputId": "b357ab82-2ec7-49c0-9e50-081c9defa1f5"
      },
      "source": [
        "#6.1. Send Bulk SMS\n",
        "def get_phone_number(person):\n",
        "    phone_dict = {\"Jerry Seinfeld\":\"+1 960-454-6956\",\n",
        "                  \"George Constanza\":\"+1 844-833-4965\",\n",
        "                  \"Elaine Benes\":\"+1 543-920-5729\",\n",
        "                  \"Cosmo Kramer\":\"+1 556-673-6702\",\n",
        "                  \"Jim Halpert\":\"+1 867-767-7664\",\n",
        "                  \"Pam Beesly\":\"+1 410-570-7381\",\n",
        "                  \"Michael Scott\":\"+1 657-220-6601\",\n",
        "                  \"Dwight Schrute\":\"+1 940-573-6702\",\n",
        "                  \"Rachel Green\":\"+1 813-856-3347\",\n",
        "                  \"Monica Geller\":\"+1 527-324-1403\",\n",
        "                  \"Ross Geller\":\"+1 687-801-6781\",\n",
        "                  \"Phoebe Buffay\":\"+1 208-702-5161\",\n",
        "                  \"Joey Tribbiani\":\"+1 908-665-3975\",\n",
        "                  \"Chandler Bing\":\"+1 444-970-5300\"}\n",
        "    return phone_dict[person]\n",
        "\n",
        "\n",
        "def send_bulk_sms(cst_list):\n",
        "    for person in cst_list:\n",
        "        try:\n",
        "            num=get_phone_number(person)\n",
        "            print(\"Message is successfully sent to\",num)\n",
        "        except: \n",
        "            print(\"Customer is not in the phone book:\",person)\n",
        "\n",
        "# send_bulk_sms([\"Pam Beesly\", \"George Constanza\", \"Elaine Benes\", \"Michael Scott\", \"Maurice Moss\"])\n",
        "send_bulk_sms([\"Roy Trenneman\", \"Monica Geller\", \"Michael Scott\", \"Pam Beesly\",\n",
        "                   \"Maurice Moss\", \"Jen Barber\", \"Ross Geller\", \"Joey Tribbiani\",\n",
        "                   \"Phoebe Buffay\", \"Denholm Reynholm\", \"Jim Halpert\", \"Cosmo Kramer\",\n",
        "                   \"Dwight Schrute\", \"Jerry Seinfeld\", \"George Constanza\"])"
      ],
      "execution_count": null,
      "outputs": [
        {
          "output_type": "stream",
          "text": [
            "Customer is not in the phone book: Roy Trenneman\n",
            "Message is successfully sent to +1 527-324-1403\n",
            "Message is successfully sent to +1 657-220-6601\n",
            "Message is successfully sent to +1 410-570-7381\n",
            "Customer is not in the phone book: Maurice Moss\n",
            "Customer is not in the phone book: Jen Barber\n",
            "Message is successfully sent to +1 687-801-6781\n",
            "Message is successfully sent to +1 908-665-3975\n",
            "Message is successfully sent to +1 208-702-5161\n",
            "Customer is not in the phone book: Denholm Reynholm\n",
            "Message is successfully sent to +1 867-767-7664\n",
            "Message is successfully sent to +1 556-673-6702\n",
            "Message is successfully sent to +1 940-573-6702\n",
            "Message is successfully sent to +1 960-454-6956\n",
            "Message is successfully sent to +1 844-833-4965\n"
          ],
          "name": "stdout"
        }
      ]
    },
    {
      "cell_type": "code",
      "metadata": {
        "colab": {
          "base_uri": "https://localhost:8080/"
        },
        "id": "p_JStGfKa_zb",
        "outputId": "279e2ebb-7a3e-4d36-9e6c-bf849ef3005a"
      },
      "source": [
        "def get_phone_number(person):\n",
        "    customers = [\"Jerry Seinfeld\",\"George Constanza\",\"Elaine Benes\",\"Cosmo Kramer\",\n",
        "               \"Jim Halpert\",\"Pam Beesly\",\"Michael Scott\",\"Dwight Schrute\",\n",
        "               \"Rachel Green\", \"Monica Geller\", \"Ross Geller\", \"Phoebe Buffay\",\n",
        "               \"Joey Tribbiani\", \"Chandler Bing\"]\n",
        "    numbers = [\"+1 960-454-6956\", \"+1 844-833-4965\", \"+1 543-920-5729\", \"+1 556-673-6702\",\n",
        "               \"+1 867-767-7664\", \"+1 410-570-7381\", \"+1 657-220-6601\", \"+1 940-573-6702\",\n",
        "               \"+1 813-856-3347\", \"+1 527-324-1403\", \"+1 687-801-6781\", \"+1 208-702-5161\",\n",
        "               \"+1 908-665-3975\", \"+1 444-970-5300\"]\n",
        "\n",
        "    return numbers[customers.index(person)]\n",
        "\n",
        "\n",
        "def send_bulk_sms(cst_list):\n",
        "    for person in cst_list:\n",
        "        try:\n",
        "            num=get_phone_number(person)\n",
        "            print(\"Message is successfully sent to\",num)\n",
        "        except: \n",
        "            print(\"Customer is not in the phone book:\",person)\n",
        "\n",
        "send_bulk_sms([\"Pam Beesly\", \"George Constanza\", \"Elaine Benes\", \"Michael Scott\", \"Maurice Moss\"])\n",
        "send_bulk_sms([\"Roy Trenneman\", \"Monica Geller\", \"Michael Scott\", \"Pam Beesly\",\n",
        "                   \"Maurice Moss\", \"Jen Barber\", \"Ross Geller\", \"Joey Tribbiani\",\n",
        "                   \"Phoebe Buffay\", \"Denholm Reynholm\", \"Jim Halpert\", \"Cosmo Kramer\",\n",
        "                   \"Dwight Schrute\", \"Jerry Seinfeld\", \"George Constanza\"])"
      ],
      "execution_count": null,
      "outputs": [
        {
          "output_type": "stream",
          "text": [
            "Message is successfully sent to +1 410-570-7381\n",
            "Message is successfully sent to +1 844-833-4965\n",
            "Message is successfully sent to +1 543-920-5729\n",
            "Message is successfully sent to +1 657-220-6601\n",
            "Customer is not in the phone book: Maurice Moss\n",
            "Customer is not in the phone book: Roy Trenneman\n",
            "Message is successfully sent to +1 527-324-1403\n",
            "Message is successfully sent to +1 657-220-6601\n",
            "Message is successfully sent to +1 410-570-7381\n",
            "Customer is not in the phone book: Maurice Moss\n",
            "Customer is not in the phone book: Jen Barber\n",
            "Message is successfully sent to +1 687-801-6781\n",
            "Message is successfully sent to +1 908-665-3975\n",
            "Message is successfully sent to +1 208-702-5161\n",
            "Customer is not in the phone book: Denholm Reynholm\n",
            "Message is successfully sent to +1 867-767-7664\n",
            "Message is successfully sent to +1 556-673-6702\n",
            "Message is successfully sent to +1 940-573-6702\n",
            "Message is successfully sent to +1 960-454-6956\n",
            "Message is successfully sent to +1 844-833-4965\n"
          ],
          "name": "stdout"
        }
      ]
    },
    {
      "cell_type": "code",
      "metadata": {
        "colab": {
          "base_uri": "https://localhost:8080/"
        },
        "id": "A0shLqGpcbLl",
        "outputId": "0e1ced21-296a-4813-ceeb-f2c78b4baae2"
      },
      "source": [
        "#6.3. Calculate Expenses\n",
        "def sum_prices(shopping_list):\n",
        "\n",
        "    total = 0\n",
        "    for (item, price) in shopping_list:\n",
        "        total += price\n",
        "    return round(total, 2)\n",
        "\n",
        "def calculate_expenses(shopping_lists):\n",
        "    return_list=[]\n",
        "    for lis in shopping_lists:\n",
        "        try:\n",
        "            x=sum_prices(lis)\n",
        "        \n",
        "        except:x=\"Incomplete\"\n",
        "        return_list+=[x]        \n",
        "    return return_list\n",
        "\n",
        "\n",
        "\n",
        "PRT=calculate_expenses([[(\"chocolate\", 4.25), (\"jambonbutter\", 4.75), (\"ice cream\", 3.5), (\"milk\", 3.25)], [(\"coffee\", 4.75), (\"olive\", 2.25), (\"ice cream\", 2.99)]])\n",
        "PRT=calculate_expenses([[(\"coffee\", 2.5), (\"milk\", \"dunno\"), (\"ice cream\", 2.75)],\n",
        "                        [(\"candy\", 2.99), (\"chocolate\", 3.99), (\"tea\", 3.5), (\"coffee\", 2.99), (\"olive\", 2.99)],\n",
        "                        [(\"tea\", 3.99), (\"coffee\", 2.5), (\"olive\", 2.25), (\"chocolate\", 4.25), (\"jambonbutter\", 4.25), (\"egg\", 2.25)]])\n",
        "PRT=calculate_expenses([[(\"tea\", 4.99), (\"olive\", 3.5), (\"chocolate\", 4.75), (\"coffee\", 3.99),\n",
        "                         (\"milk\", 2.99), (\"egg\", 3.99), (\"jambonbutter\", \"not sure\")],\n",
        "                         [(\"jambonbutter\", 3.5), (\"egg\", 3.75), (\"tea\", 3.99), (\"coffee\", 4.5), (\"olive\", 3.75)],\n",
        "                         [(\"jambonbutter\", 3.99), (\"milk\", 3.5), (\"chocolate\", 4.25), (\"ice cream\", 3.5),\n",
        "                          (\"cheese\", 2.75), (\"candy\", 2.75), (\"tea\", 4.5), (\"olive\", \"unknown\")],\n",
        "                          [(\"ice cream\", 3.99), (\"olive\", 3.75), (\"chocolate\", 2.99), (\"coffee\", 4.5),\n",
        "                          (\"milk\", 3.25), (\"tea\", 2.25), (\"candy\", 4.25), (\"cheese\", 4.75)],\n",
        "                          [(\"ice cream\", 3.75), (\"coffee\", 3.25), (\"candy\", \"unknown\"),\n",
        "                          (\"chocolate\", 3.99), (\"egg\", 4.99), (\"olive\", 3.25), (\"milk\", 2.5)]])\n",
        "\n",
        "print(PRT)\n",
        "# sum_prices(lis)\n",
        "\n",
        "# [15.75, 9.99]"
      ],
      "execution_count": null,
      "outputs": [
        {
          "output_type": "stream",
          "text": [
            "['Incomplete', 19.49, 'Incomplete', 29.73, 'Incomplete']\n"
          ],
          "name": "stdout"
        }
      ]
    },
    {
      "cell_type": "code",
      "metadata": {
        "id": "TY4L1s8xgyBO"
      },
      "source": [
        "#6.4. Find Zero ##KİTABIN CEVABI\n",
        "def find_zero(numbers):\n",
        "    index_of_zero = -1\n",
        "    index_counter = -1\n",
        "    try:\n",
        "        for number in numbers:\n",
        "            index_counter += 1\n",
        "            temporary = 32/number   # Apply division to catch ZeroDivisionError exception.\n",
        "    except ZeroDivisionError:       # 32 and temporary have no meaning here. They can be anything.\n",
        "        index_of_zero = index_counter\n",
        "    return index_of_zero"
      ],
      "execution_count": null,
      "outputs": []
    },
    {
      "cell_type": "code",
      "metadata": {
        "colab": {
          "base_uri": "https://localhost:8080/"
        },
        "id": "xqlHnuxYhO18",
        "outputId": "da39ce79-1e39-4a70-b93a-7c9a4ba7dd0a"
      },
      "source": [
        "# 6.5. Exercise: Calculate Discount Averages\n",
        "def average_discount(list_of_changes):\n",
        "    total = 0\n",
        "    count = 0\n",
        "    for change in list_of_changes:\n",
        "        if change < 0:\n",
        "            total += (- change)     # to make it positive\n",
        "            count += 1\n",
        "\n",
        "    return round((total / count), 2) \n",
        "\n",
        "\n",
        "def calculate_discount_averages(lists):\n",
        "    return_list=[]\n",
        "    for small_list in lists:\n",
        "        try: \n",
        "            rl_item=average_discount(small_list)\n",
        "        except: \n",
        "            rl_item=0\n",
        "        return_list.append(rl_item)\n",
        "    return return_list\n",
        "\n",
        "PRT=calculate_discount_averages([[-3.25, 4.5, 3.5], [-0.25, -2, -1, -1.5], [-4.25, -0.75, -2, 4.5]])\n",
        "PRT=calculate_discount_averages([[2.75, 3.25, -3.25], [2.5, 1.99, 1, 1, 0.5],\n",
        "                                 [-0.25, -4.5, -2.25, -4, 2, 2], [-3, -2.5, -3, -1.99, -4.5]])\n",
        "PRT=calculate_discount_averages([[-0.75, 4, 2.25, 3.5, -1.25, 4.5],\n",
        "                                [-1.5, -2.99, 3.99, -0.25, -0.25, -2, 2.99, -4, -3.25],\n",
        "                                [1.25, 0.75, 0.5, 0.25, 1.5, 0.99],\n",
        "                                [0.25, 0.25, 0.75, 1.5, 2.75, 3, 2.25],\n",
        "                                [-3.25, 4.5, 4.99, 4.5, -1.99]])\n",
        "print(PRT)\n",
        "# [3.25, 1.19, 2.33]"
      ],
      "execution_count": null,
      "outputs": [
        {
          "output_type": "stream",
          "text": [
            "[1.0, 2.03, 0, 0, 2.62]\n"
          ],
          "name": "stdout"
        }
      ]
    },
    {
      "cell_type": "code",
      "metadata": {
        "id": "JH9jR8hgxVff"
      },
      "source": [
        "\n",
        "\n",
        "\n",
        ">>> ball_game([1, 3, 2], 1)\n",
        "1\n",
        "\n",
        ">>> ball_game([1, 3, 2], 2)\n",
        "3\n",
        "\n",
        ">>> ball_game([1, 3, 2], 3)\n",
        "3\n",
        "\n",
        ">>> ball_game([3, 4, 5, 1, 2], 4)\n",
        "2\n",
        "\n",
        ">>> ball_game([3, 4, 5, 1, 2], 5)\n",
        "5\n",
        "\n",
        ">>> ball_game([3, 4, 5, 1, 2], 6)\n",
        "5\n",
        "\n",
        ">>> ball_game([8, 7, 1, 5, 3, 10, 4, 2, 6, 9], 4)\n",
        "3\n",
        "\n",
        ">>> ball_game([8, 7, 1, 5, 3, 10, 4, 2, 6, 9], 5)\n",
        "5\n",
        "\n",
        ">>> ball_game([8, 7, 1, 5, 3, 10, 4, 2, 6, 9], 6)\n",
        "10\n",
        "\n",
        ">>> ball_game([8, 7, 1, 5, 3, 10, 4, 2, 6, 9], 7)"
      ],
      "execution_count": null,
      "outputs": []
    },
    {
      "cell_type": "code",
      "metadata": {
        "colab": {
          "base_uri": "https://localhost:8080/"
        },
        "id": "mSLAK_vszvqZ",
        "outputId": "b0da62eb-7edc-410e-b594-a7e47238eddc"
      },
      "source": [
        "#6.8. Exercise: Memento\n",
        "def memento(file_name):\n",
        "    try:\n",
        "        fl=open(file_name,\"r\")\n",
        "        content=fl.read()\n",
        "\n",
        "        try:\n",
        "            password=int(content)\n",
        "            return \"Finally you found the correct one! The password is: \"+ str(password)\n",
        "        except:return 'Wrong file, try again!'\n",
        "    except: return \"File not found, try again!\"\n",
        "\n",
        "test1=open(\"test1.txt\",\"w\")\n",
        "test1.write(\"dasdkjlkldsa9102801\")\n",
        "test2=open(\"test2.txt\",\"w\")\n",
        "test2.write(\"15646456\")\n",
        "test1.close()\n",
        "test2.close()\n",
        "\n",
        "print(memento(\"test.txt\"))\n",
        "# 'File not found, try again!'\n",
        "\n",
        "print(memento(\"test1.txt\"))\n",
        "# 'Wrong file, try again!'\n",
        "\n",
        "print(memento(\"test2.txt\"))\n",
        "# 'Finally you found the correct one! The password is: 15646456'"
      ],
      "execution_count": null,
      "outputs": [
        {
          "output_type": "stream",
          "text": [
            "File not found, try again!\n",
            "Wrong file, try again!\n",
            "Finally you found the correct one! The password is: 15646456\n"
          ],
          "name": "stdout"
        }
      ]
    },
    {
      "cell_type": "code",
      "metadata": {
        "colab": {
          "base_uri": "https://localhost:8080/"
        },
        "id": "IUm0cm3N3i7n",
        "outputId": "a51bcc60-9a9d-4a69-8d46-6dc6f95c7f2b"
      },
      "source": [
        "#7.1. Railway Statistics\n",
        "import pandas as pd\n",
        "import numpy as np\n",
        "import matplotlib.pyplot as plt\n",
        "\n",
        "dat=open(\"test1.txt\",\"r\")\n",
        "\n",
        "\n",
        "data=pd.read_csv(\"california_housing_train.csv\")\n",
        "population=np.array(data[\"population\"],dtype=int)\n",
        "house=np.array(data[\"households\"])\n",
        "print(population)\n",
        "print(house)\n",
        "# help(pd)\n"
      ],
      "execution_count": null,
      "outputs": [
        {
          "output_type": "stream",
          "text": [
            "[1015 1129  333 ... 1244 1298  806]\n",
            "[472. 463. 117. ... 456. 478. 270.]\n"
          ],
          "name": "stdout"
        }
      ]
    }
  ]
}