{
  "nbformat": 4,
  "nbformat_minor": 0,
  "metadata": {
    "colab": {
      "name": "Workbook 5-file.ipynb",
      "provenance": [],
      "collapsed_sections": []
    },
    "kernelspec": {
      "name": "python3",
      "display_name": "Python 3"
    },
    "language_info": {
      "name": "python"
    }
  },
  "cells": [
    {
      "cell_type": "code",
      "metadata": {
        "id": "2dja7HlMRiZj"
      },
      "source": [
        ""
      ],
      "execution_count": null,
      "outputs": []
    },
    {
      "cell_type": "code",
      "metadata": {
        "colab": {
          "base_uri": "https://localhost:8080/"
        },
        "id": "nKWKla296CyB",
        "outputId": "6e8ea5c8-d0be-4487-87aa-ce5c4089d04e"
      },
      "source": [
        "# #5.1. Average Weight of Deliveries\n",
        "def average_weight(file_name):\n",
        "    flr=open(\"input.txt\",\"r\")\n",
        "    num_list=[]\n",
        "    new_list=[]\n",
        "    nextline=flr.readline()\n",
        "    while nextline!=\"\":\n",
        "        nextline=nextline.strip(\"\\n\")\n",
        "        nums=nextline.split()\n",
        "        for num in nums:\n",
        "            num=int(num)\n",
        "            num_list.append(num)\n",
        "        nextline=flr.readline()\n",
        "    flr.close()\n",
        "    # print(num_list)\n",
        "    # print(type(num_list[0]))\n",
        "    for i in filter(range_check,num_list):\n",
        "        new_list.append(i)\n",
        "    # print(new_list)\n",
        "    # print(type(new_list[0]))\n",
        "    sum=0\n",
        "    for num in new_list:\n",
        "        sum+=num\n",
        "    avarage=sum/len(new_list)\n",
        "    if len(num_list)==0:return 0\n",
        "    else: return avarage\n",
        "    \n",
        "\n",
        "\n",
        "\n",
        "\n",
        "def range_check(num):\n",
        "    if num>=45 and num<=125:return num\n",
        "    else:return None\n",
        "    # if num in range[45,125]:return num\n",
        "\n",
        "fl=open(\"input.txt\",\"w\")\n",
        "fl.write(\"\"\"61 49 92 159 212 257 107 320\n",
        "    237 282 354 240 120 330 243\n",
        "    95 113 300 114 271\n",
        "    191 303 396 117 175 350\"\"\")\n",
        "fl.close()\n",
        "\n",
        "x=average_weight(\"input.txt\")\n",
        "print(x)"
      ],
      "execution_count": null,
      "outputs": [
        {
          "output_type": "stream",
          "text": [
            "96.44444444444444\n"
          ],
          "name": "stdout"
        }
      ]
    },
    {
      "cell_type": "code",
      "metadata": {
        "colab": {
          "base_uri": "https://localhost:8080/"
        },
        "id": "37VgM72bTvsu",
        "outputId": "fb6a3a9e-225e-419c-bed4-8b4a9d8e7038"
      },
      "source": [
        "#5.2. Evaluate Attendees\n",
        "def evaluate_attendees(key_file,ans_file):\n",
        "    key_list=[]\n",
        "    key=open(\"key.txt\",\"r\")\n",
        "    line=key.readline()\n",
        "    key_list=line.split()\n",
        "    key.close()\n",
        "    # print(key_list)\n",
        "\n",
        "    ans_dict={}\n",
        "    ans=open(\"attendees.txt\",\"r\")\n",
        "    nextline=ans.readline()\n",
        "    while nextline!=\"\":\n",
        "        at_list=nextline.split()\n",
        "        # print(at_list)\n",
        "        nextline=ans.readline()\n",
        "        ans_dict[at_list[0]]=at_list[1:]\n",
        "    # print(ans_dict)\n",
        "    ans.close()\n",
        "\n",
        "    return_list=[]\n",
        "    for attendee in ans_dict:\n",
        "        correct=0\n",
        "        wrong=0\n",
        "        for i in range(len(key_list)):\n",
        "            if ans_dict[attendee][i]==key_list[i]:correct+=1\n",
        "            else:wrong+=1\n",
        "        point=correct-0.25*wrong\n",
        "        return_list.append((attendee,point))\n",
        "    sorted_list=sorted(return_list,key=lambda item:item[1],reverse=True )\n",
        "\n",
        "    return sorted_list\n",
        "        \n",
        "\n",
        "\n",
        "\n",
        "# help(sorted)\n",
        "key=open(\"key.txt\",\"w\")\n",
        "key.write(\"A B A B C\")\n",
        "key.close()\n",
        "\n",
        "ans=open(\"attendees.txt\",\"w\")\n",
        "ans.write(\"\"\"Jenna A A A A A\n",
        "    Tracy D E D E A\n",
        "    Liz A B A B E\n",
        "    Lutz A B A D D\n",
        "    Toofer E B A B C\n",
        "    Frank E E E E E\"\"\")\n",
        "\n",
        "sonuc=evaluate_attendees(\"key.txt\",\"attendees.txt\")\n",
        "print(sonuc)\n",
        "# Return Value:\n",
        "#     [('Liz',3.75),('Toofer',3.75),('Lutz',2.5),('Jenna',1.25),('Tracy',-1.25),('Frank',-1.25)]"
      ],
      "execution_count": null,
      "outputs": [
        {
          "output_type": "stream",
          "text": [
            "[('Liz', 3.75), ('Toofer', 3.75), ('Lutz', 2.5), ('Jenna', 1.25), ('Tracy', -1.25), ('Frank', -1.25)]\n"
          ],
          "name": "stdout"
        }
      ]
    },
    {
      "cell_type": "code",
      "metadata": {
        "colab": {
          "base_uri": "https://localhost:8080/"
        },
        "id": "MT8fW7aqgBZN",
        "outputId": "f092d918-95ba-411b-fd9e-c2f7f938c0c2"
      },
      "source": [
        "#5.3. Exercise: Grade Student\n",
        "\n",
        "def grade_student(answer_key,student):\n",
        "    grade=0\n",
        "    key_list=[]\n",
        "    key=open(\"answer_key.txt\",\"r\")\n",
        "    nextline=key.readline()\n",
        "    while nextline!=\"\":\n",
        "        x=nextline.split()\n",
        "        key_list+=[x]\n",
        "        nextline=key.readline()\n",
        "    key.close()\n",
        "    # print(key_list)\n",
        "\n",
        "    student_list=[]\n",
        "    student=open(\"student.txt\",\"r\")\n",
        "    nl=student.readline()\n",
        "    while nl!=\"\":\n",
        "        y=nl.split()\n",
        "        student_list+=[y]\n",
        "        nl=student.readline()\n",
        "    student.close()\n",
        "    # print(student_list)\n",
        "\n",
        "    for i in range(len(key_list)):\n",
        "        if key_list[i][1]==student_list[i][1]:grade+=int(key_list[i][2])\n",
        "\n",
        "    return grade\n",
        "\n",
        "\n",
        "\n",
        "key=open(\"answer_key.txt\",\"w\")\n",
        "key.write(\"\"\"1 A 5\n",
        "    2 C 15\n",
        "    3 A 10\n",
        "    4 B 5\n",
        "    5 D 5\n",
        "    6 C 15\n",
        "    7 C 15\n",
        "    8 A 10\n",
        "    9 D 15\n",
        "    10 C 5\"\"\")\n",
        "key.close()\n",
        "\n",
        "student=open(\"student.txt\",\"w\")\n",
        "student.write(\"\"\"1 A\n",
        "    2 C\n",
        "    3 D\n",
        "    4 A\n",
        "    5 C\n",
        "    6 C\n",
        "    7 D\n",
        "    8 A\n",
        "    9 D\n",
        "    10 C\"\"\")\n",
        "\n",
        "gr=grade_student(\"answer_key.txt\", \"student.txt\")\n",
        "print(gr)"
      ],
      "execution_count": null,
      "outputs": [
        {
          "output_type": "stream",
          "text": [
            "65\n"
          ],
          "name": "stdout"
        }
      ]
    },
    {
      "cell_type": "code",
      "metadata": {
        "colab": {
          "base_uri": "https://localhost:8080/"
        },
        "id": "z9axuo6WDz4J",
        "outputId": "3adde91e-ca0a-4fe3-e9d6-61b468e479d7"
      },
      "source": [
        "#5.4. Cheapest Flour\n",
        "def cheapest_flour(inp, out):\n",
        "    price_list=[]\n",
        "\n",
        "\n",
        "    inp=open(\"input.txt\",\"r\")\n",
        "    nextline=inp.readline()\n",
        "    while nextline!=\"\":\n",
        "        xyz=nextline.split()\n",
        "        price_list+=[int(xyz[0])/int(xyz[1])]\n",
        "        nextline=inp.readline()\n",
        "    inp.close()\n",
        "\n",
        "    sr_list=sorted(price_list,reverse=True)\n",
        "    out=open(\"output.txt\",\"w\")\n",
        "    for i in sr_list:\n",
        "        x=str(i)\n",
        "        out.write(\"{}\".format(x))\n",
        "        out.write(\"\\n\")\n",
        "        # print(x)\n",
        "    out.close()\n",
        "\n",
        "\n",
        "input=open(\"input.txt\",\"w\")\n",
        "input.write(\"\"\"12 3\n",
        "    25 2\n",
        "    15 6\n",
        "    23 8\n",
        "    11 2\"\"\")\n",
        "input.close()\n",
        "\n",
        "cheapest_flour(\"input.txt\", \"output.txt\")\n",
        "\n",
        "out=open(\"output.txt\",\"r\")\n",
        "content=out.read()\n",
        "print(content)"
      ],
      "execution_count": null,
      "outputs": [
        {
          "output_type": "stream",
          "text": [
            "12.5\n",
            "5.5\n",
            "4.0\n",
            "2.875\n",
            "2.5\n",
            "\n"
          ],
          "name": "stdout"
        }
      ]
    },
    {
      "cell_type": "code",
      "metadata": {
        "colab": {
          "base_uri": "https://localhost:8080/"
        },
        "id": "vkA8jg7okMDi",
        "outputId": "eacf546e-c96c-4dc5-aa3d-c67c7da954b9"
      },
      "source": [
        "#5.5. Exercise: Pass or Fail\n",
        "def check_grade(grade):\n",
        "    if grade<60: return \"Fail\"\n",
        "    else: return \"Pass\"\n",
        "\n",
        "\n",
        "def pass_or_fail(input,output):\n",
        "        inp=open(\"input.txt\",\"r\")\n",
        "        nextline=inp.readline()\n",
        "        output=open(\"output.txt\",\"w\")\n",
        "        while nextline!=\"\":\n",
        "            li=nextline.split(\",\")\n",
        "            grade=0.3*int(li[1])+0.3*int(li[2])+0.4*int(li[3])\n",
        "            output.write(li[0]+\",\"+check_grade(grade)+\"\\n\")  \n",
        "            nextline=inp.readline()  \n",
        "        inp.close()\n",
        "        output.close()\n",
        "\n",
        "\n",
        "    \n",
        "input=open(\"input.txt\",\"w\")\n",
        "input.write(\"\"\"Gorkem Yildiz,70,90,50\n",
        "Naz Kaya,100,80,20\n",
        "Bilgin Irmak,60,55,63\n",
        "Aleyna Catak,80,60,50\n",
        "Bayram Durak,70,30,90\"\"\")\n",
        "input.close()\n",
        "\n",
        "pass_or_fail(\"input.txt\", \"output.txt\")\n",
        "\n",
        "\n",
        "out=open(\"output.txt\",\"r\")\n",
        "content=out.read()\n",
        "print(content)\n",
        "\n",
        "\n",
        "\n",
        "# Sample function call:\n",
        "#     pass_or_fail(\"input.txt\", \"output.txt\")\n",
        "\n",
        "# Content of the file \"input.txt\":\n",
        "\n",
        "\n",
        "# Content of the file \"output.txt\" after function call:\n",
        "#     Bilgin Irmak,Fail\n",
        "#     Aleyna Çatak,Pass\n",
        "#     Bayram Durak,Pass"
      ],
      "execution_count": null,
      "outputs": [
        {
          "output_type": "stream",
          "text": [
            "Gorkem Yildiz,Pass\n",
            "Naz Kaya,Pass\n",
            "Bilgin Irmak,Fail\n",
            "Aleyna Catak,Pass\n",
            "Bayram Durak,Pass\n",
            "\n"
          ],
          "name": "stdout"
        }
      ]
    },
    {
      "cell_type": "code",
      "metadata": {
        "colab": {
          "base_uri": "https://localhost:8080/"
        },
        "id": "KVY8FON-D7E5",
        "outputId": "e418880c-a126-4007-e54c-cdd11b057932"
      },
      "source": [
        "#5.6. Delete Answers from the Exam\n",
        "\n",
        "def delete_answers(file_name):\n",
        "    q=open(file_name,\"r\")\n",
        "    n_q=open(\"new_questions.txt\",\"w\")\n",
        "    nextline=q.readline()\n",
        "    \n",
        "    i=0\n",
        "    while nextline!=\"\":\n",
        "        nextline=q.readline()\n",
        "        # nextline=nextline.strip(\"\\n\")\n",
        "        # print(nextline)\n",
        "        i+=1\n",
        "        if i%6==0:\n",
        "           pass\n",
        "        else:\n",
        "            n_q.write(nextline)\n",
        "            # print(nextline)\n",
        "\n",
        "    q.close()\n",
        "    n_q.close()\n",
        "\n",
        "\n",
        "questions=open(\"questions.txt\",\"w\")\n",
        "questions.write(\"\"\"\n",
        "    Q1: What does RAM stand for?\n",
        "    A) Right Access Memory\n",
        "    B) Real Actual Memory\n",
        "    C) Read Access Memory\n",
        "    D) Random Access Memory\n",
        "    Answer is D\n",
        "    Q2: What is the electronic circuitry within a computer that executes instructions that make up a computer program?\n",
        "    A) CPU\n",
        "    B) RAM\n",
        "    C) ROM\n",
        "    D) Motherboard\n",
        "    Answer is A\"\"\")\n",
        "questions.close()\n",
        "\n",
        "delete_answers(\"questions.txt\")\n",
        "\n",
        "output_file=open(\"new_questions.txt\",\"r\")\n",
        "x=output_file.read()\n",
        "print(x)"
      ],
      "execution_count": null,
      "outputs": [
        {
          "output_type": "stream",
          "text": [
            "    Q1: What does RAM stand for?\n",
            "    A) Right Access Memory\n",
            "    B) Real Actual Memory\n",
            "    C) Read Access Memory\n",
            "    D) Random Access Memory\n",
            "    Q2: What is the electronic circuitry within a computer that executes instructions that make up a computer program?\n",
            "    A) CPU\n",
            "    B) RAM\n",
            "    C) ROM\n",
            "    D) Motherboard\n",
            "\n"
          ],
          "name": "stdout"
        }
      ]
    },
    {
      "cell_type": "code",
      "metadata": {
        "colab": {
          "base_uri": "https://localhost:8080/"
        },
        "id": "gmJUVzZEBNch",
        "outputId": "826c471f-4998-4755-a815-d3ed707efbf5"
      },
      "source": [
        "# 5.7. Exercise: Database Migration\n",
        "\n",
        "\n",
        "def format_for_migration(input, output):\n",
        "    input=open(input,\"r\")\n",
        "    output=open(\"output.txt\",\"w\")\n",
        "    nextline=input.readline()\n",
        "    nextline=nextline.strip()\n",
        "    titles=nextline.split(\",\")\n",
        "    \n",
        "    nextline=input.readline()\n",
        "    nextline=nextline.strip()\n",
        "    count=1\n",
        "    while nextline!=\"\":\n",
        "        count+=1\n",
        "        seperated=nextline.split(\",\")\n",
        "        new_list=[]\n",
        "        for i in range(len(seperated)):\n",
        "            x=\":\".join([titles[i],seperated[i]])\n",
        "            \n",
        "            new_list+=[x]\n",
        "        output.write(\",\".join(new_list)+\"\\n\")\n",
        "             \n",
        "        \n",
        "        nextline=input.readline()\n",
        "        nextline=nextline.strip()\n",
        "    \n",
        "\n",
        "\n",
        "    input.close()\n",
        "    output.close()\n",
        "    return count-1\n",
        "\n",
        "input=open(\"input.txt\",\"w\")\n",
        "input.write(\"\"\"    Actor,EpisodeCount,LastOccurence\n",
        "    Kenan Thompson,353,2020\n",
        "    Seth Meyers,255,2018\n",
        "    Fred Armisen,238,2020\n",
        "    Kate McKinnon,179,2020\n",
        "    Cecily Strong,174,2020\n",
        "    Bill Hader,167,2020\n",
        "    Maya Rudolp,166,2020\n",
        "    Will Forte,159,2016\n",
        "    Tina Fey,154,2020\n",
        "    Tracy Morgan,154,2019\n",
        "    Amy Poehler,153,2020\n",
        "    Will Ferrell,151,2019\n",
        "    Rachel Dracht,150,2020\n",
        "    Colin Jost,149,2020\n",
        "    Kristen Wiig,145,2020\n",
        "    Andy Samberg,144,2018\n",
        "    Michael Che,132,2020\n",
        "    Pete Davidson,132,2020\n",
        "    Alec Baldwin,65,2020\n",
        "    Julia Louis-Dreyfus,60,2016\n",
        "    Jenny Slate,22,2010\n",
        "    Steve Martin,32,2019\n",
        "    Martin Short,28,2020\n",
        "    Nancy Carell,22,2018\n",
        "    Steve Carell,18,2018\n",
        "    Tom Hanks,18,2020\n",
        "    John Mulaney,14,2020\"\"\")\n",
        "\n",
        "\n",
        "input.close()\n",
        "output=open(\"output.txt\",\"w\")\n",
        "output.close()\n",
        "\n",
        "print(format_for_migration(\"input.txt\", \"output.txt\"))\n",
        "output=open(\"output.txt\",\"r\")\n",
        "x=output.read()\n",
        "print(x)\n",
        "\n",
        "# Return value:\n",
        "#     27\n"
      ],
      "execution_count": null,
      "outputs": [
        {
          "output_type": "stream",
          "text": [
            "27\n",
            "Actor:Kenan Thompson,EpisodeCount:353,LastOccurence:2020\n",
            "Actor:Seth Meyers,EpisodeCount:255,LastOccurence:2018\n",
            "Actor:Fred Armisen,EpisodeCount:238,LastOccurence:2020\n",
            "Actor:Kate McKinnon,EpisodeCount:179,LastOccurence:2020\n",
            "Actor:Cecily Strong,EpisodeCount:174,LastOccurence:2020\n",
            "Actor:Bill Hader,EpisodeCount:167,LastOccurence:2020\n",
            "Actor:Maya Rudolp,EpisodeCount:166,LastOccurence:2020\n",
            "Actor:Will Forte,EpisodeCount:159,LastOccurence:2016\n",
            "Actor:Tina Fey,EpisodeCount:154,LastOccurence:2020\n",
            "Actor:Tracy Morgan,EpisodeCount:154,LastOccurence:2019\n",
            "Actor:Amy Poehler,EpisodeCount:153,LastOccurence:2020\n",
            "Actor:Will Ferrell,EpisodeCount:151,LastOccurence:2019\n",
            "Actor:Rachel Dracht,EpisodeCount:150,LastOccurence:2020\n",
            "Actor:Colin Jost,EpisodeCount:149,LastOccurence:2020\n",
            "Actor:Kristen Wiig,EpisodeCount:145,LastOccurence:2020\n",
            "Actor:Andy Samberg,EpisodeCount:144,LastOccurence:2018\n",
            "Actor:Michael Che,EpisodeCount:132,LastOccurence:2020\n",
            "Actor:Pete Davidson,EpisodeCount:132,LastOccurence:2020\n",
            "Actor:Alec Baldwin,EpisodeCount:65,LastOccurence:2020\n",
            "Actor:Julia Louis-Dreyfus,EpisodeCount:60,LastOccurence:2016\n",
            "Actor:Jenny Slate,EpisodeCount:22,LastOccurence:2010\n",
            "Actor:Steve Martin,EpisodeCount:32,LastOccurence:2019\n",
            "Actor:Martin Short,EpisodeCount:28,LastOccurence:2020\n",
            "Actor:Nancy Carell,EpisodeCount:22,LastOccurence:2018\n",
            "Actor:Steve Carell,EpisodeCount:18,LastOccurence:2018\n",
            "Actor:Tom Hanks,EpisodeCount:18,LastOccurence:2020\n",
            "Actor:John Mulaney,EpisodeCount:14,LastOccurence:2020\n",
            "\n"
          ],
          "name": "stdout"
        }
      ]
    },
    {
      "cell_type": "code",
      "metadata": {
        "colab": {
          "base_uri": "https://localhost:8080/"
        },
        "id": "2iizo36PY2mW",
        "outputId": "46e09e3a-462f-4067-9c17-c9312a375046"
      },
      "source": [
        "#5.8. Append Reverse\n",
        "\n",
        "def append_reverse(file_name):\n",
        "    input=open(file_name,\"r\")\n",
        "    nextline=input.readline()\n",
        "    tp_list=[]\n",
        "    person_list=[]\n",
        "    while nextline!=\"\":\n",
        "        nextline=nextline.strip(\"\\n\")\n",
        "        name_surname=nextline.split()\n",
        "        (name,surname)=name_surname[0],name_surname[1]\n",
        "        person_list+=[\"\\n\"+surname+\" \"+name]\n",
        "        tp=(name,surname)\n",
        "        tp_list.append(tp)\n",
        "        # print((name,surname))\n",
        "        nextline=input.readline()\n",
        "        \n",
        "    input.close()\n",
        "    \n",
        "    output=open(file_name,\"a\")\n",
        "    for person in person_list:\n",
        "        output.write(person)\n",
        "    input.close()\n",
        "       \n",
        "    return tp_list\n",
        "   \n",
        "input=open(\"input.txt\",\"w\")\n",
        "input.write(\"\"\"Lewis Hamilton\n",
        "Nicholas Latifi\n",
        "Charles Leclerc\n",
        "Esteban Ocon\n",
        "Kimi Raikkonen\"\"\")\n",
        "input.close()\n",
        "\n",
        "print(append_reverse(\"input.txt\"))\n",
        "\n",
        "son_file=input=open(\"input.txt\",\"r\")\n",
        "context=son_file.read()\n",
        "print(context)\n",
        "# Return value:\n",
        "#     [('Lewis', 'Hamilton'), ('Nicholas', 'Latifi'), ('Charles', 'Leclerc'), ('Esteban', 'Ocon'), ('Kimi', 'Raikkonen')]"
      ],
      "execution_count": null,
      "outputs": [
        {
          "output_type": "stream",
          "text": [
            "[('Lewis', 'Hamilton'), ('Nicholas', 'Latifi'), ('Charles', 'Leclerc'), ('Esteban', 'Ocon'), ('Kimi', 'Raikkonen')]\n",
            "Lewis Hamilton\n",
            "Nicholas Latifi\n",
            "Charles Leclerc\n",
            "Esteban Ocon\n",
            "Kimi Raikkonen\n",
            "Hamilton Lewis\n",
            "Latifi Nicholas\n",
            "Leclerc Charles\n",
            "Ocon Esteban\n",
            "Raikkonen Kimi\n"
          ],
          "name": "stdout"
        }
      ]
    },
    {
      "cell_type": "code",
      "metadata": {
        "colab": {
          "base_uri": "https://localhost:8080/"
        },
        "id": "MqTm1-64eCOn",
        "outputId": "d8cef550-2efc-47e7-bbda-58e2377e9be3"
      },
      "source": [
        ""
      ],
      "execution_count": null,
      "outputs": [
        {
          "output_type": "stream",
          "text": [
            "0\n",
            "0\n",
            "{'A': 0.66, 'B': 0, 'C': 0}\n",
            "0\n",
            "0\n",
            "0\n",
            "{'Ahmet': 1.1600000000000001, 'Beyza': 0, 'Celal': 0}\n"
          ],
          "name": "stdout"
        }
      ]
    },
    {
      "cell_type": "code",
      "metadata": {
        "colab": {
          "base_uri": "https://localhost:8080/"
        },
        "id": "VDEm8xV8bdLv",
        "outputId": "e602708e-0b61-44e1-c0ba-486ce0a1b192"
      },
      "source": [
        "#5.10. Fix Operation File\n",
        "\n",
        "def fix_operation_file(input_file,output_file):\n",
        "    input=open(input_file,\"r\")\n",
        "    output=open(output_file,\"w\")\n",
        "    line_list=[]\n",
        "    nextline=input.readline()\n",
        "    while nextline!=\"\":\n",
        "        nextline=nextline.strip(\"\\n\")\n",
        "        line_list+=[nextline.strip(\"\\n\")]\n",
        "\n",
        "        nextline=input.readline()\n",
        "    # print(line_list)\n",
        "    return_list= []\n",
        "    for i in range(len(line_list)):\n",
        "        if i%3==0:\n",
        "            new_line=line_list[i]+line_list[i+1]+line_list[i+2]+\"\\n\"\n",
        "            output.write(new_line)\n",
        "            calculation=eval(new_line)\n",
        "            return_list.append(calculation)\n",
        "        \n",
        "\n",
        "    input.close()\n",
        "    output.close()\n",
        "    return return_list\n",
        "\n",
        "\n",
        "\n",
        "\n",
        "input=open(\"input.txt\",\"w\")\n",
        "input.write(\"\"\"3\n",
        "+\n",
        "5\n",
        "6\n",
        "*\n",
        "7\n",
        "2\n",
        "/\n",
        "1\n",
        "18\n",
        "-\n",
        "9\"\"\")\n",
        "input.close()\n",
        "\n",
        "\n",
        "\n",
        "print(fix_operation_file(\"input.txt\", \"output.txt\"))\n",
        "\n",
        "output=open(\"output.txt\",\"r\")\n",
        "context=output.read()\n",
        "print(context)\n",
        "output.close()\n",
        "\n",
        "# Content of the file \"output.txt\" after function call:\n",
        "#   3+5\n",
        "#   6*7\n",
        "#   2/1\n",
        "#   18-9\n",
        "# Return value:\n",
        "#   [8, 42, 2.0, 9]"
      ],
      "execution_count": null,
      "outputs": [
        {
          "output_type": "stream",
          "text": [
            "[8, 42, 2.0, 9]\n",
            "3+5\n",
            "6*7\n",
            "2/1\n",
            "18-9\n",
            "\n"
          ],
          "name": "stdout"
        }
      ]
    }
  ]
}