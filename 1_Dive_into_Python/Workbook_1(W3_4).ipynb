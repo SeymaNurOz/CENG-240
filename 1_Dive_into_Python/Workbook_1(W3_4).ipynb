{
  "nbformat": 4,
  "nbformat_minor": 0,
  "metadata": {
    "colab": {
      "name": "Workbook-1(W3-4).ipynb",
      "provenance": [],
      "collapsed_sections": []
    },
    "kernelspec": {
      "name": "python3",
      "display_name": "Python 3"
    },
    "language_info": {
      "name": "python"
    }
  },
  "cells": [
    {
      "cell_type": "code",
      "metadata": {
        "id": "B_R9EGXEJ5pd"
      },
      "source": [
        "#1.22#"
      ],
      "execution_count": null,
      "outputs": []
    },
    {
      "cell_type": "code",
      "metadata": {
        "id": "YXqSE2dhKNts"
      },
      "source": [
        ""
      ],
      "execution_count": null,
      "outputs": []
    },
    {
      "cell_type": "code",
      "metadata": {
        "colab": {
          "base_uri": "https://localhost:8080/"
        },
        "id": "MHuaRRXENUgQ",
        "outputId": "b58ede84-5008-45a1-9355-a44af11b3409"
      },
      "source": [
        "#1.1 Debt\n",
        "total=3000*(1.02**6)\n",
        "mountly=total/6\n",
        "print (\"{:.2f}\".format(mountly))\n"
      ],
      "execution_count": null,
      "outputs": [
        {
          "output_type": "stream",
          "text": [
            "563.08\n"
          ],
          "name": "stdout"
        }
      ]
    },
    {
      "cell_type": "code",
      "metadata": {
        "colab": {
          "base_uri": "https://localhost:8080/"
        },
        "id": "fUVfVJjY8XkI",
        "outputId": "3c70d58e-4180-42d3-b962-eaae6692f52d"
      },
      "source": [
        "#1.2\n",
        "main_money=float(input(\"main money\"))\n",
        "total_debt=main_money*1.02**6\n",
        "mountly=total_debt/6\n",
        "print(\"{:.2f}\".format(mountly))"
      ],
      "execution_count": null,
      "outputs": [
        {
          "output_type": "stream",
          "text": [
            "main money2000\n",
            "375.39\n"
          ],
          "name": "stdout"
        }
      ]
    },
    {
      "cell_type": "code",
      "metadata": {
        "id": "9aep3WZMO2ei",
        "colab": {
          "base_uri": "https://localhost:8080/"
        },
        "outputId": "b1d73304-06e1-40a6-9f8a-a7ae36ec5371"
      },
      "source": [
        "#1.3 Division\n",
        "intx = int(input(\"1.integer\"))\n",
        "inty = int(input(\"2.integer\"))\n",
        "division = intx//inty\n",
        "remainder = intx%inty\n",
        "print(division)\n",
        "print(remainder)"
      ],
      "execution_count": null,
      "outputs": [
        {
          "output_type": "stream",
          "text": [
            "1.integer17\n",
            "2.integer5\n",
            "3\n",
            "2\n"
          ],
          "name": "stdout"
        }
      ]
    },
    {
      "cell_type": "code",
      "metadata": {
        "colab": {
          "base_uri": "https://localhost:8080/"
        },
        "id": "aoVgDG69WcJx",
        "outputId": "7fe4db86-88dc-42b4-d5b1-a5899a98995e"
      },
      "source": [
        "#1.4.Greating\n",
        "name = input(\"Hello, what is your name?\")\n",
        "print(\"Nice to meet you,\",name)"
      ],
      "execution_count": null,
      "outputs": [
        {
          "output_type": "stream",
          "text": [
            "Hello, what is your name?elma\n",
            "Nice to meet you, elma\n"
          ],
          "name": "stdout"
        }
      ]
    },
    {
      "cell_type": "code",
      "metadata": {
        "colab": {
          "base_uri": "https://localhost:8080/"
        },
        "id": "ehOQPwRnXEQC",
        "outputId": "a2940381-04a6-481d-a139-25d79bf51ee5"
      },
      "source": [
        "#1.5.Headphones\n",
        "price = int(input())\n",
        "tax = 0.2 * price\n",
        "print(\"{:.2f}\".format(tax))"
      ],
      "execution_count": null,
      "outputs": [
        {
          "output_type": "stream",
          "text": [
            "100\n",
            "20.00\n"
          ],
          "name": "stdout"
        }
      ]
    },
    {
      "cell_type": "code",
      "metadata": {
        "colab": {
          "base_uri": "https://localhost:8080/"
        },
        "id": "zpwTggwGW6qb",
        "outputId": "27ea12dd-19dc-4eb0-81c9-ebb23409cf9b"
      },
      "source": [
        "#1.6.Conflict of Metrics\n",
        "distance_mil = int(input(\"distance in mile\"))\n",
        "speed_km = int(input(\"speed in km/s\"))\n",
        "distance_km = distance_mil*1.6\n",
        "time_hour=distance_km/speed_km\n",
        "time_min = 60*time_hour\n",
        "print(\"{:.2f}\".format(time_min))"
      ],
      "execution_count": null,
      "outputs": [
        {
          "output_type": "stream",
          "text": [
            "distance in mile79\n",
            "speed in km/s150\n",
            "50.56\n"
          ],
          "name": "stdout"
        }
      ]
    },
    {
      "cell_type": "code",
      "metadata": {
        "colab": {
          "base_uri": "https://localhost:8080/"
        },
        "id": "SLz3d2Q2O2zg",
        "outputId": "7d2bab74-1099-483d-f6a4-2ec824610747"
      },
      "source": [
        "#1.7.LCD Shipment\n",
        "lcd = int(input(\"lcd\"))\n",
        "ink = int(input(\"ink\"))\n",
        "#lcd-w = 63\n",
        "#ink-w = 30\n",
        "t_w_lcd = 63*(lcd)\n",
        "t_w_ink = 30*ink\n",
        "print(\"Total weight of the LCDs\",(t_w_lcd))\n",
        "print(\"Total weight of the inks\",(t_w_ink))\n"
      ],
      "execution_count": null,
      "outputs": [
        {
          "output_type": "stream",
          "text": [
            "lcd120\n",
            "ink200\n",
            "Total weight of the LCDs 7560\n",
            "Total weight of the inks 6000\n"
          ],
          "name": "stdout"
        }
      ]
    },
    {
      "cell_type": "code",
      "metadata": {
        "colab": {
          "base_uri": "https://localhost:8080/"
        },
        "id": "AU2ksxnFSmRw",
        "outputId": "587b6cb0-afe4-4f4f-f459-483385023d8b"
      },
      "source": [
        "#1.8.Jogging at Devrim\n",
        "speed1 = float(input())\n",
        "duration1 = float(input())\n",
        "speed2 = float(input())\n",
        "duration2 = float(input())\n",
        "speed3 = float(input())\n",
        "duration3 = float(input())\n",
        "speed4 = float(input())\n",
        "duration4 = float(input())\n",
        "len_lap= float(input())\n",
        "total_m= speed1*duration1+speed2*duration2+speed3*duration3+speed4*duration4\n",
        "tur= total_m/len_lap\n",
        "print(\"{:.1f}\".format(tur))\n"
      ],
      "execution_count": null,
      "outputs": [
        {
          "output_type": "stream",
          "text": [
            "4.2\n",
            "300\n",
            "5.9\n",
            "240\n",
            "7.8\n",
            "260\n",
            "4.4\n",
            "200\n",
            "420\n",
            "13.3\n"
          ],
          "name": "stdout"
        }
      ]
    },
    {
      "cell_type": "code",
      "metadata": {
        "colab": {
          "base_uri": "https://localhost:8080/"
        },
        "id": "Q4sHRGmuUuZC",
        "outputId": "fbd8cd12-deb5-43b3-9e55-cf3991913996"
      },
      "source": [
        "#1.9.Tiling the Floor\n",
        "from math import *\n",
        "width = int(input())\n",
        "length = int(input())\n",
        "print(gcd(width,length))"
      ],
      "execution_count": null,
      "outputs": [
        {
          "output_type": "stream",
          "text": [
            "1\n",
            "12\n",
            "1\n"
          ],
          "name": "stdout"
        }
      ]
    },
    {
      "cell_type": "code",
      "metadata": {
        "colab": {
          "base_uri": "https://localhost:8080/"
        },
        "id": "IflS0ZTyXC4b",
        "outputId": "28b685b2-0c0e-4c30-b2d6-df649be84a9c"
      },
      "source": [
        "#1.10. Tiling the Floor with Minimum Tiles\n",
        "from math import *\n",
        "width = int(input())\n",
        "length = int(input())\n",
        "kenar = gcd(width,length)\n",
        "num1 = width/kenar\n",
        "num2 = length/kenar\n",
        "print(round(num1*num2))"
      ],
      "execution_count": null,
      "outputs": [
        {
          "output_type": "stream",
          "text": [
            "1\n",
            "12\n",
            "12\n"
          ],
          "name": "stdout"
        }
      ]
    },
    {
      "cell_type": "code",
      "metadata": {
        "colab": {
          "base_uri": "https://localhost:8080/"
        },
        "id": "WbH0XJYNX5Je",
        "outputId": "c3c5b203-c9dc-4790-c644-f2b3d89a1824"
      },
      "source": [
        "#1.11. Movie Festival\n",
        "n = int(input(\"hours\"))\n",
        "print ((11+n)%24)"
      ],
      "execution_count": null,
      "outputs": [
        {
          "output_type": "stream",
          "text": [
            "hours18\n",
            "5\n"
          ],
          "name": "stdout"
        }
      ]
    },
    {
      "cell_type": "code",
      "metadata": {
        "colab": {
          "base_uri": "https://localhost:8080/"
        },
        "id": "tzZJ-VbWZQl3",
        "outputId": "d76c20b6-d794-4941-8cbe-bbbe6f547417"
      },
      "source": [
        "#1.12. Exercise: Circle and Sphere\n",
        "r = float(input(\"r\"))\n",
        "area = pi*r**2\n",
        "volume = 4/3*pi*r**3\n",
        "print(\"area:\",\"{:.2f}\".format(area))\n",
        "print(\"volume:\",\"{:.2f}\".format(volume))"
      ],
      "execution_count": null,
      "outputs": [
        {
          "output_type": "stream",
          "text": [
            "r4.25\n",
            "area: 56.75\n",
            "volume: 321.56\n"
          ],
          "name": "stdout"
        }
      ]
    },
    {
      "cell_type": "code",
      "metadata": {
        "colab": {
          "base_uri": "https://localhost:8080/"
        },
        "id": "9LXISR80aVZF",
        "outputId": "f13251c1-4ad1-4363-c8ca-f993544f8cc4"
      },
      "source": [
        "#1.13. Reflection Point\n",
        "qx=int(input())\n",
        "qy=int(input())\n",
        "px=int(input())\n",
        "py=int(input())\n",
        "\n",
        "mx = (qx+px)/2\n",
        "my = (qy+py)/2\n",
        "rx = px+(px-qx)\n",
        "ry = py+(py-qy)\n",
        "print (mx,\",\",my,\"and\",rx,\",\",ry)\n",
        "print (\"{:.2f}\".format(mx))\n",
        "print (\"{:.2f}\".format(my))\n",
        "print (\"{:.2f}\".format(rx))\n",
        "print (\"{:.2f}\".format(ry))\n",
        "\n"
      ],
      "execution_count": null,
      "outputs": [
        {
          "output_type": "stream",
          "text": [
            "4\n",
            "5\n",
            "1\n",
            "2\n",
            "2.5 , 3.5 and -2 , -1\n",
            "2.50\n",
            "3.50\n",
            "-2.00\n",
            "-1.00\n"
          ],
          "name": "stdout"
        }
      ]
    },
    {
      "cell_type": "code",
      "metadata": {
        "colab": {
          "base_uri": "https://localhost:8080/"
        },
        "id": "3PSuUQAueGRE",
        "outputId": "82069580-26e7-48d7-a957-88b343a3d8bc"
      },
      "source": [
        "#1.14. Exercise: BMI \n",
        "h = int(input(\"height cm\"))\n",
        "h_m=h/100\n",
        "w = int(input(\"weight km\"))\n",
        "BMI = w/(h_m**2)\n",
        "bmı = round(BMI)\n",
        "print(bmı)\n"
      ],
      "execution_count": null,
      "outputs": [
        {
          "output_type": "stream",
          "text": [
            "height cm160\n",
            "weight km55\n",
            "21\n"
          ],
          "name": "stdout"
        }
      ]
    },
    {
      "cell_type": "code",
      "metadata": {
        "colab": {
          "base_uri": "https://localhost:8080/"
        },
        "id": "jUkcLUQxe-lE",
        "outputId": "d215b558-a74e-4661-b0d5-f82513cedf5e"
      },
      "source": [
        "#1.15. Exercise: Distance between Circles\n",
        "Ax =int(input())\n",
        "Ay =int(input())\n",
        "Ar =int(input())\n",
        "Bx =int(input())\n",
        "By =int(input())\n",
        "Br =int(input())\n",
        "\n",
        "center_dist=sqrt((Ax-Bx)**2+(Ay-By)**2)\n",
        "dist = center_dist-Ar-Br\n",
        "print(\"{:.2f}\".format(dist))"
      ],
      "execution_count": null,
      "outputs": [
        {
          "output_type": "stream",
          "text": [
            "3\n",
            "3\n",
            "2\n",
            "10\n",
            "15\n",
            "5\n",
            "6.89\n"
          ],
          "name": "stdout"
        }
      ]
    },
    {
      "cell_type": "code",
      "metadata": {
        "colab": {
          "base_uri": "https://localhost:8080/"
        },
        "id": "PCCs0wkx2v55",
        "outputId": "2452c1d7-92d2-4cab-cd9d-7c352b012d8e"
      },
      "source": [
        "#1.16. Cube Extraction\n",
        "m = int(input())\n",
        "n = int(input())\n",
        "area= 4*(m**2)+4*(n**2)+2*(m**2-n**2)\n",
        "print(area)\n"
      ],
      "execution_count": null,
      "outputs": [
        {
          "output_type": "stream",
          "text": [
            "4\n",
            "1\n",
            "98\n"
          ],
          "name": "stdout"
        }
      ]
    },
    {
      "cell_type": "code",
      "metadata": {
        "colab": {
          "base_uri": "https://localhost:8080/"
        },
        "id": "BGhaopQR3jmG",
        "outputId": "2493547e-23ff-4439-92ec-2797eb2f8d55"
      },
      "source": [
        "#1.17. Pool\n",
        "faf1 = int(input())\n",
        "faf2 = int(input())\n",
        "faf3 = int(input())\n",
        "fae4 = int(input())\n",
        "fae5 = int(input())\n",
        "d_fae4 = int(input())\n",
        "d_fae5 = int(input())\n",
        "l = int(input())\n",
        "w = int(input())\n",
        "d = int(input())\n",
        "\n",
        "t1= (d-d_fae4*l*w)/(faf1+faf2+faf3)\n",
        "t2 =((d_fae4-d_fae5)*l*w)/(faf1+faf2+faf3-fae4)\n",
        "t3 =((d_fae5)*l*w)/(faf1+faf2+faf3-fae4-fae5)\n",
        "print(t1+t2+t3)"
      ],
      "execution_count": null,
      "outputs": [
        {
          "output_type": "stream",
          "text": [
            "2\n",
            "2\n",
            "2\n",
            "1\n",
            "1\n",
            "20\n",
            "10\n",
            "1\n",
            "1\n",
            "20\n",
            "4.5\n"
          ],
          "name": "stdout"
        }
      ]
    },
    {
      "cell_type": "code",
      "metadata": {
        "id": "AOqfHQtdC0gA",
        "colab": {
          "base_uri": "https://localhost:8080/"
        },
        "outputId": "47b61b4e-6b6d-4e4e-c581-8b98833b091d"
      },
      "source": [
        "#1.18. Exercise: Django\n",
        "n = int(input(\"criminals\"))\n",
        "m = int(input(\"budget\"))\n",
        "gain = n*(n+1)/2*100\n",
        "lost = n*m\n",
        "profit = gain-lost\n",
        "print(round(profit))\n",
        "\n"
      ],
      "execution_count": null,
      "outputs": [
        {
          "output_type": "stream",
          "text": [
            "criminals5\n",
            "budget72\n",
            "1140\n"
          ],
          "name": "stdout"
        }
      ]
    },
    {
      "cell_type": "code",
      "metadata": {
        "colab": {
          "base_uri": "https://localhost:8080/"
        },
        "id": "cQr_z0xAXELH",
        "outputId": "48420f9b-aa07-4484-b5a5-2fddae86fcad"
      },
      "source": [
        "#1.19. Vector\n",
        "x1 = int(input())\n",
        "y1 = int(input())\n",
        "x2 = int(input())\n",
        "y2 = int(input())\n",
        "x3 = int(input())\n",
        "y3 = int(input())\n",
        "p1 =(x1,y1)\n",
        "p2 =(x2,y2)\n",
        "p3 =(x3,y3)\n",
        "\n",
        "v1 =(p1[0]+p2[0],p1[1]+p2[1])\n",
        "print(v1)\n",
        "v2 =(v1[0]-p3[0],v1[1]-p3[1])\n",
        "print(v2)\n"
      ],
      "execution_count": null,
      "outputs": [
        {
          "output_type": "stream",
          "text": [
            "5\n",
            "3\n",
            "2\n",
            "2\n",
            "0\n",
            "-2\n",
            "(7, 5)\n",
            "(7, 7)\n"
          ],
          "name": "stdout"
        }
      ]
    },
    {
      "cell_type": "code",
      "metadata": {
        "colab": {
          "base_uri": "https://localhost:8080/"
        },
        "id": "uD15DQOzYmq6",
        "outputId": "05cfd707-4c28-4371-948c-d197bebc196d"
      },
      "source": [
        "#1.20. Slogan\n",
        "slogan = input()\n",
        "print(\"than\" in slogan)\n",
        "print(slogan[:20]+\"e\"+slogan[21:])\n"
      ],
      "execution_count": null,
      "outputs": [
        {
          "output_type": "stream",
          "text": [
            "When you're here, than you're home.\n",
            "True\n",
            "When you're here, then you're home.\n"
          ],
          "name": "stdout"
        }
      ]
    },
    {
      "cell_type": "code",
      "metadata": {
        "colab": {
          "base_uri": "https://localhost:8080/"
        },
        "id": "7lqTjkbQmxao",
        "outputId": "c3ec1842-2086-48c5-82b3-5b9bac6830c3"
      },
      "source": [
        "#1.21. Exercise: Grading in CENG314\n",
        "g1 = int(input())\n",
        "g2 = int(input())\n",
        "g3 = int(input())\n",
        "g4 = int(input())\n",
        "g5 = int(input())\n",
        "\n",
        "grades=[g1,g2,g3,g4,g5]\n",
        "lowest = min(grades)\n",
        "final = (g1+g2+g3+g4+g5-lowest)/8\n",
        "print(round(final,1))"
      ],
      "execution_count": null,
      "outputs": [
        {
          "output_type": "stream",
          "text": [
            "10\n",
            "5\n",
            "6\n",
            "3\n",
            "7\n",
            "3.5\n"
          ],
          "name": "stdout"
        }
      ]
    },
    {
      "cell_type": "code",
      "metadata": {
        "colab": {
          "base_uri": "https://localhost:8080/"
        },
        "id": "qqLK2hWRzlvE",
        "outputId": "7a5e5274-e8c6-4caa-81ee-bd232b3ebd45"
      },
      "source": [
        "#1.22. Exercise: Fuel Tank\n",
        "capacity=int(input(\"L\"))\n",
        "consumption=int(input(\"100 l/km\"))\n",
        "length = int(input(\"km\"))\n",
        "from math import *\n",
        "\n",
        "need_fuel=length*consumption/100\n",
        "depo=need_fuel//capacity\n",
        "kalan=capacity*(depo+1)-need_fuel\n",
        "\n",
        "if kalan==capacity:\n",
        "  depo=depo-1\n",
        "  kalan=0.00\n",
        "else:\n",
        "  pass\n",
        "\n",
        "print(int(depo))\n",
        "print(kalan)\n",
        " \n",
        "######OLMADI-SON DURUM ICIN\n",
        "\n"
      ],
      "execution_count": null,
      "outputs": [
        {
          "output_type": "stream",
          "text": [
            "L150\n",
            "100 l/km30\n",
            "km1000\n",
            "1\n",
            "0.0\n"
          ],
          "name": "stdout"
        }
      ]
    },
    {
      "cell_type": "code",
      "metadata": {
        "colab": {
          "base_uri": "https://localhost:8080/"
        },
        "id": "cIE0C5fKKlbP",
        "outputId": "cea86998-7ca3-4bdd-dfae-2c5348ce61fd"
      },
      "source": [
        "#1.23. Tuples and Lists\n",
        "original_tuple=eval(input(\"input a tuple\"))\n",
        "index,new_num=eval(input(\"input change\"))\n",
        "\n",
        "l = list(original_tuple)\n",
        "l[index]= new_num\n",
        "new_tuple=tuple(l)\n",
        "print(new_tuple)"
      ],
      "execution_count": null,
      "outputs": [
        {
          "output_type": "stream",
          "text": [
            "input a tuple(1,2,3,\"?\",5)\n",
            "input change(3,4)\n",
            "(1, 2, 3, 4, 5)\n"
          ],
          "name": "stdout"
        }
      ]
    },
    {
      "cell_type": "code",
      "metadata": {
        "colab": {
          "base_uri": "https://localhost:8080/"
        },
        "id": "4ZWhoTpQcIXr",
        "outputId": "66e1c2db-b1c3-4a87-8f2f-65aa21e411a8"
      },
      "source": [
        "#1.24. Inner Elements\n",
        "num_list= eval(input(\"input the list\"))\n",
        "m = int(input(\"m\"))\n",
        "length=len(num_list)\n",
        "#a to b\n",
        "a=int((length-m)/2)\n",
        "b=a+m\n",
        "result=num_list[a:b]\n",
        "print(result)"
      ],
      "execution_count": null,
      "outputs": [
        {
          "output_type": "stream",
          "text": [
            "input the list[10,4,6,2,7,32,6,76,99]\n",
            "m3\n",
            "[2, 7, 32]\n"
          ],
          "name": "stdout"
        }
      ]
    },
    {
      "cell_type": "code",
      "metadata": {
        "colab": {
          "base_uri": "https://localhost:8080/"
        },
        "id": "o_LaIFxqeFwR",
        "outputId": "e634e56d-f56c-42c0-8131-c8d068c91779"
      },
      "source": [
        "#1.25. Lego\n",
        "l = eval(input(\"input the list\"))\n",
        "a = int(input(\"a\"))\n",
        "b = int(input(\"b\"))\n",
        "l [a-1:b]=[0]*(b-a+1)\n",
        "print(l)"
      ],
      "execution_count": null,
      "outputs": [
        {
          "output_type": "stream",
          "text": [
            "input the list[2, 2, 7, 4, 9, 6, 1, 9, 2]\n",
            "a3\n",
            "b7\n",
            "[2, 2, 0, 0, 0, 0, 0, 9, 2]\n"
          ],
          "name": "stdout"
        }
      ]
    },
    {
      "cell_type": "code",
      "metadata": {
        "colab": {
          "base_uri": "https://localhost:8080/"
        },
        "id": "DxVSrNT6iVKV",
        "outputId": "6df29224-c622-4357-954c-2b71e0962757"
      },
      "source": [
        "#1.26. Dictionaries\n",
        "stA_ID = int(input())\n",
        "stA_mt = float(input())\n",
        "stA_final = float(input())\n",
        "stB_ID = int(input())\n",
        "stB_mt = float(input())\n",
        "stB_final = float(input())\n",
        "stC_ID = int(input())\n",
        "stC_mt = float(input())\n",
        "stC_final = float(input())\n",
        "stXX_ID = int(input())\n",
        "\n",
        "dict = {stA_ID:(stA_mt,stA_final),\n",
        "        stB_ID:(stB_mt,stB_final),\n",
        "        stC_ID:(stC_mt,stC_final)}\n",
        "nots = dict[stXX_ID]\n",
        "not_list = list(nots)\n",
        "avg = (not_list[0]+not_list[1])/2\n",
        "print(\"{:.1f}\".format(avg))\n",
        "\n",
        "#kıtap taki çözüm\n",
        "# db = dict()\n",
        "\n",
        "# student_id = int(input())\n",
        "# midterm = float(input())\n",
        "# final = float(input())\n",
        "# db[student_id] = (midterm, final)\n",
        "\n",
        "# student_id = int(input())\n",
        "# midterm = float(input())\n",
        "# final = float(input())\n",
        "# db[student_id] = (midterm, final)\n",
        "\n",
        "# student_id = int(input())\n",
        "# midterm = float(input())\n",
        "# final = float(input())\n",
        "# db[student_id] = (midterm, final)\n",
        "\n",
        "# student_id = int(input())\n",
        "\n",
        "# (midterm, final) = db[student_id]   # notice the tuple matching\n",
        "# average = (midterm + final) / 2\n",
        "# print(\"{:.f}\".format(average))"
      ],
      "execution_count": null,
      "outputs": [
        {
          "output_type": "stream",
          "text": [
            "1234567\n",
            "40\n",
            "70\n",
            "3334444\n",
            "90\n",
            "80\n",
            "1112222\n",
            "35.4\n",
            "12\n",
            "1112222\n",
            "23.7\n"
          ],
          "name": "stdout"
        }
      ]
    },
    {
      "cell_type": "code",
      "metadata": {
        "colab": {
          "base_uri": "https://localhost:8080/"
        },
        "id": "BA2K34k00FvE",
        "outputId": "20594146-306a-4bf5-8854-a56ab012f4b2"
      },
      "source": [
        "#1.27. Exercise: Minimum and Maximum of Three \n",
        "num_list=[]\n",
        "a = int(input())\n",
        "b = int(input())\n",
        "c = int(input())\n",
        "\n",
        "num_list.extend([a,b,c])\n",
        "min_num = min(num_list)\n",
        "max_num = max(num_list)\n",
        "set_num = set(num_list)\n",
        "set_num.remove(min_num)\n",
        "set_num.remove(max_num)\n",
        "mid_list = list(set_num)\n",
        "middle_num = mid_list[0]\n",
        "print(min_num,middle_num,max_num)"
      ],
      "execution_count": null,
      "outputs": [
        {
          "output_type": "stream",
          "text": [
            "8\n",
            "13\n",
            "1\n",
            "1 8 13\n"
          ],
          "name": "stdout"
        }
      ]
    }
  ]
}