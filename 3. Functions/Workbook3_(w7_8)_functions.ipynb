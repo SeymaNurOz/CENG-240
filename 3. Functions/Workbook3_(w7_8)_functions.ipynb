{
  "nbformat": 4,
  "nbformat_minor": 0,
  "metadata": {
    "colab": {
      "name": "Workbook3  (w7-8)-functions.ipynb",
      "provenance": [],
      "collapsed_sections": []
    },
    "kernelspec": {
      "name": "python3",
      "display_name": "Python 3"
    },
    "language_info": {
      "name": "python"
    }
  },
  "cells": [
    {
      "cell_type": "code",
      "source": [
        ""
      ],
      "metadata": {
        "id": "HeKW1J8YrcRA"
      },
      "execution_count": null,
      "outputs": []
    },
    {
      "cell_type": "code",
      "metadata": {
        "id": "9zwp0zb6h0Lm"
      },
      "source": [
        ""
      ],
      "execution_count": null,
      "outputs": []
    },
    {
      "cell_type": "code",
      "metadata": {
        "colab": {
          "base_uri": "https://localhost:8080/"
        },
        "id": "mWqyUS7jtWlF",
        "outputId": "ebffa671-e1bb-44b1-8e0c-7c6f3dff4574"
      },
      "source": [
        "#3.1. Best Food \n",
        "def best_food(text):\n",
        "    if text==\"HEADS\":return \"CALZONES\"\n",
        "    elif text==\"TAILS\": return \"WAFFLES\"\n",
        "\n",
        "print(best_food(\"TAILS\"))\n"
      ],
      "execution_count": null,
      "outputs": [
        {
          "output_type": "stream",
          "name": "stdout",
          "text": [
            "WAFFLES\n"
          ]
        }
      ]
    },
    {
      "cell_type": "code",
      "metadata": {
        "colab": {
          "base_uri": "https://localhost:8080/"
        },
        "id": "XaRwjSAnwCsq",
        "outputId": "ec8bdade-f094-454c-da83-13f667ae2d51"
      },
      "source": [
        "#3.2. Temperature Conversion\n",
        "def convert(temp_num,temp_type):\n",
        "    if temp_type==\"C\":\n",
        "        F= 180*temp_num/100+32\n",
        "        return F\n",
        "    elif temp_type==\"F\":\n",
        "        C= (temp_num-32)*100/180\n",
        "        return C \n",
        "    else:\n",
        "        return \"invalid unit\"\n",
        "\n",
        "print(convert(212, 'F'))\n"
      ],
      "execution_count": null,
      "outputs": [
        {
          "output_type": "stream",
          "name": "stdout",
          "text": [
            "100.0\n"
          ]
        }
      ]
    },
    {
      "cell_type": "code",
      "source": [
        "print(convert(212, 'F'))\n",
        "print(convert(6,'C'))"
      ],
      "metadata": {
        "colab": {
          "base_uri": "https://localhost:8080/"
        },
        "id": "TMS_vzCSq_If",
        "outputId": "9bc08fa7-ba5d-4f5f-cc2e-cff0017df3ac"
      },
      "execution_count": null,
      "outputs": [
        {
          "output_type": "stream",
          "name": "stdout",
          "text": [
            "100.0\n",
            "42.8\n"
          ]
        }
      ]
    },
    {
      "cell_type": "code",
      "metadata": {
        "colab": {
          "base_uri": "https://localhost:8080/"
        },
        "id": "6ncHo7wHzp9W",
        "outputId": "657bc184-94d9-431a-eddd-269302b183df"
      },
      "source": [
        "#3.3. Exercise: Leslie’s Parks\n",
        "def to_be_built(for_,against):\n",
        "    if for_>=2*against:\n",
        "        return\"YES\"\n",
        "    else: return\"NO\"\n",
        "\n",
        "print(to_be_built(27,13))"
      ],
      "execution_count": null,
      "outputs": [
        {
          "output_type": "stream",
          "text": [
            "YES\n"
          ],
          "name": "stdout"
        }
      ]
    },
    {
      "cell_type": "code",
      "metadata": {
        "colab": {
          "base_uri": "https://localhost:8080/"
        },
        "id": "gUbprt2Dj4rw",
        "outputId": "12285186-47f0-469d-e29b-a64f743836ed"
      },
      "source": [
        "#3.4. Discriminant Problem\n",
        "def has_real_roots(a,b,c):\n",
        "    delta= b**2-4*a*c\n",
        "    if delta<0: return \"False\"\n",
        "    else: return \"True\"\n",
        "print(has_real_roots(1, -4, 4))\n",
        "print(has_real_roots(1, -2, 4))"
      ],
      "execution_count": null,
      "outputs": [
        {
          "output_type": "stream",
          "text": [
            "True\n",
            "False\n"
          ],
          "name": "stdout"
        }
      ]
    },
    {
      "cell_type": "code",
      "metadata": {
        "colab": {
          "base_uri": "https://localhost:8080/"
        },
        "id": "rr09CzN8kmxx",
        "outputId": "24823ba7-4e72-4b89-83fd-039577df3a5f"
      },
      "source": [
        "#3.5. Exercise: Finding Median\n",
        "def find_median(grade_list):\n",
        "    sorted_list=sorted(grade_list)\n",
        "    length=len(sorted_list)\n",
        "    if length%2==1:\n",
        "        return sorted_list[(length-1)//2]\n",
        "    else: \n",
        "        avarage_mid=(sorted_list[length//2]+sorted_list[(length//2)-1])/2\n",
        "        return int(avarage_mid)\n",
        "\n",
        "\n",
        "\n",
        "\n",
        "print(find_median([72,32,49,20,33]))\n",
        "print(find_median([27,48,9,63,99,61,33,80,43,84,39,46,40,46,16,55,69,43,11,57]))"
      ],
      "execution_count": null,
      "outputs": [
        {
          "output_type": "stream",
          "text": [
            "33\n",
            "46\n"
          ],
          "name": "stdout"
        }
      ]
    },
    {
      "cell_type": "code",
      "metadata": {
        "colab": {
          "base_uri": "https://localhost:8080/"
        },
        "id": "DDa3Kgtrm2pQ",
        "outputId": "b0d41df3-a49b-48a2-e304-ce489568f765"
      },
      "source": [
        "#3.6. Exercise: Middle Point\n",
        "def middle_point(tupple_1,tupple_2):\n",
        "    mid_x=(tupple_1[0]+tupple_2[0])/2\n",
        "    mid_y=(tupple_1[1]+tupple_2[1])/2\n",
        "    return(mid_x,mid_y)\n",
        "\n",
        "\n",
        "print(middle_point((1.0, 2.0), (4.0, 4.0)))\n",
        "print(middle_point((-4.0, 2.0), (3.0, -4.0)))"
      ],
      "execution_count": null,
      "outputs": [
        {
          "output_type": "stream",
          "text": [
            "(2.5, 3.0)\n",
            "(-0.5, -1.0)\n"
          ],
          "name": "stdout"
        }
      ]
    },
    {
      "cell_type": "code",
      "metadata": {
        "colab": {
          "base_uri": "https://localhost:8080/"
        },
        "id": "QkyUF9YIn7Yu",
        "outputId": "4617588d-af7c-46ed-8141-b54a2f0a045d"
      },
      "source": [
        "#3.7. Sampled Average\n",
        "def avarage(num_list):\n",
        "    sum=0\n",
        "    for num in num_list:\n",
        "        sum+= num \n",
        "    return sum/len(num_list)\n",
        "\n",
        "def sampled_average(num_list,av_target):\n",
        "    check=False\n",
        "    for i in range(len(num_list)):\n",
        "        new_list= num_list[:i]+num_list[i+1:]\n",
        "        if avarage(new_list)==av_target:\n",
        "            check=True\n",
        "    if check==True: return \"yes\"\n",
        "    else: return \"no\"\n",
        "\n",
        "\n",
        "print(sampled_average([1,2,3,10], 2))\n",
        "print(sampled_average([1,3], 2))\n",
        "\n"
      ],
      "execution_count": null,
      "outputs": [
        {
          "output_type": "stream",
          "text": [
            "yes\n",
            "no\n"
          ],
          "name": "stdout"
        }
      ]
    },
    {
      "cell_type": "code",
      "metadata": {
        "colab": {
          "base_uri": "https://localhost:8080/"
        },
        "id": "NEJN5RuPfIlI",
        "outputId": "b2a64870-6876-4c5c-db30-af683745fc06"
      },
      "source": [
        "#3.8. Andy’s Songs\n",
        "def andys_songs(song_list,mood):\n",
        "    count=0\n",
        "    for song in song_list:\n",
        "        if mood>=song:\n",
        "            count+=1\n",
        "    return count\n",
        "\n",
        "\n",
        "print(andys_songs([2, 7, 12, 5, 1, 0, 6, 8], 5))\n",
        "print(andys_songs([4, 8, 15, 16, 23, 42, 108, 271, 49, 88], 55))"
      ],
      "execution_count": null,
      "outputs": [
        {
          "output_type": "stream",
          "text": [
            "4\n",
            "7\n"
          ],
          "name": "stdout"
        }
      ]
    },
    {
      "cell_type": "code",
      "metadata": {
        "colab": {
          "base_uri": "https://localhost:8080/"
        },
        "id": "T1FB5ElmgJnR",
        "outputId": "6d290c6f-e5ce-4383-8353-b9e43e4d7fc5"
      },
      "source": [
        "#3.9. Exercise: Bankruptcy Countdown\n",
        "def countdown(money,payment_list):\n",
        "    sum=0\n",
        "    for each in payment_list:\n",
        "        sum+=each\n",
        "    return sum\n",
        "\n",
        "\n",
        "print(countdown(2000, [2900, 1000, 400, 23000]))\n",
        "\n",
        "\n",
        "print(countdown(125000, [7000, 4500, 750, 150, 7100, 1000]))\n",
        "\n",
        "\n"
      ],
      "execution_count": null,
      "outputs": [
        {
          "output_type": "stream",
          "text": [
            "27300\n",
            "20500\n"
          ],
          "name": "stdout"
        }
      ]
    },
    {
      "cell_type": "code",
      "metadata": {
        "colab": {
          "base_uri": "https://localhost:8080/"
        },
        "id": "qLU7U0FMh5TA",
        "outputId": "5edb076c-92c3-4047-dd44-a25427c83d7b"
      },
      "source": [
        "#3.10. City Sushi\n",
        "def total_price(sushi_list,range_start,range_stop):\n",
        "    price=0\n",
        "    for i in range(range_start-1,range_stop-1):\n",
        "        price+=sushi_list[i]\n",
        "    return price\n",
        "\n",
        "\n",
        "\n",
        "print(total_price([1, 5, 2, 6, 12, 5, 23, 15], 2, 6))\n",
        "\n",
        "print(total_price([7, 7, 7, 5, 6, 3, 5, 7, 8], 1, 9))"
      ],
      "execution_count": null,
      "outputs": [
        {
          "output_type": "stream",
          "text": [
            "25\n",
            "47\n"
          ],
          "name": "stdout"
        }
      ]
    },
    {
      "cell_type": "code",
      "metadata": {
        "id": "RDCak2e8jcQG",
        "colab": {
          "base_uri": "https://localhost:8080/"
        },
        "outputId": "2f32907a-f278-4235-b530-377fcacb5960"
      },
      "source": [
        "#3.11. Health Bar\n",
        "def health_bar(base,current,damage):\n",
        "    kalan=current-damage\n",
        "    if kalan > 0 :\n",
        "        return \"X\"*kalan+\"_\"*(base-kalan)\n",
        "    else: \n",
        "        return \"_\"*base\n",
        "\n",
        "\n",
        "print(health_bar(11, 11, 4))\n",
        "print(health_bar(8, 2, 6))"
      ],
      "execution_count": null,
      "outputs": [
        {
          "output_type": "stream",
          "text": [
            "XXXXXXX____\n",
            "________\n"
          ],
          "name": "stdout"
        }
      ]
    },
    {
      "cell_type": "code",
      "metadata": {
        "colab": {
          "base_uri": "https://localhost:8080/"
        },
        "id": "ckW5MoP6EW69",
        "outputId": "cd7d4fa5-dab9-40bb-8797-1a089dc1e570"
      },
      "source": [
        "#3.12. Exercise: Palindrome\n",
        "def is_palindrome(text):\n",
        "    reverse=text[::-1]\n",
        "    if text==reverse:\n",
        "        return \"True\"\n",
        "    else: return \"False\"\n",
        "\n",
        "print(is_palindrome(\"ilsa\"))\n",
        "print(is_palindrome(\"dammitimmad\"))"
      ],
      "execution_count": null,
      "outputs": [
        {
          "output_type": "stream",
          "text": [
            "False\n",
            "True\n"
          ],
          "name": "stdout"
        }
      ]
    },
    {
      "cell_type": "code",
      "metadata": {
        "id": "OFYjYsUOO6SM",
        "colab": {
          "base_uri": "https://localhost:8080/"
        },
        "outputId": "7a8e6533-4a27-4988-a167-dde3114ce77e"
      },
      "source": [
        "#3.13. Range of\n",
        "def range_of(my_list):\n",
        "    max_item=my_list[0]\n",
        "    min_item=my_list[0]\n",
        "    for item in my_list:\n",
        "        if item>max_item:\n",
        "            max_item=item\n",
        "        if item<min_item:\n",
        "            min_item=item\n",
        "    r=max_item-min_item\n",
        "    return r\n",
        "print(range_of([2,2]))"
      ],
      "execution_count": null,
      "outputs": [
        {
          "output_type": "stream",
          "text": [
            "0\n"
          ],
          "name": "stdout"
        }
      ]
    },
    {
      "cell_type": "code",
      "metadata": {
        "colab": {
          "base_uri": "https://localhost:8080/"
        },
        "id": "vCecptvdD3cc",
        "outputId": "40ecf3a1-d39a-4d5b-d20e-1be98847dcf6"
      },
      "source": [
        "#3.14. Exercise: Increment List\n",
        "def increment_list(my_list):\n",
        "    new_list=[]\n",
        "    for i in my_list:\n",
        "        y=i+1\n",
        "        new_list+=[y]\n",
        "    return new_list\n",
        "\n",
        "a = [1, 2, 3, 10, 15]\n",
        "print(increment_list(a)) \n",
        "print(a)\n"
      ],
      "execution_count": null,
      "outputs": [
        {
          "output_type": "stream",
          "text": [
            "[2, 3, 4, 11, 16]\n",
            "[1, 2, 3, 10, 15]\n"
          ],
          "name": "stdout"
        }
      ]
    },
    {
      "cell_type": "code",
      "metadata": {
        "colab": {
          "base_uri": "https://localhost:8080/"
        },
        "id": "uKvpRlBnE3vT",
        "outputId": "5e81864b-da6e-440c-d613-0580b4049bd0"
      },
      "source": [
        "#3.15. Even Number of Customers\n",
        "count=0\n",
        "\n",
        "def incoming():\n",
        "    global count\n",
        "    count+=1\n",
        "\n",
        "def outgoing():\n",
        "    global count\n",
        "    count-=1\n",
        "\n",
        "def even_customers():\n",
        "    global count\n",
        "    if count%2==0:return True\n",
        "    else: return False\n",
        "\n",
        "incoming()\n",
        "incoming()\n",
        "incoming()\n",
        "print(even_customers())\n",
        "\n",
        "outgoing()\n",
        "print(even_customers())\n",
        "\n"
      ],
      "execution_count": null,
      "outputs": [
        {
          "output_type": "stream",
          "text": [
            "False\n",
            "True\n"
          ],
          "name": "stdout"
        }
      ]
    },
    {
      "cell_type": "code",
      "metadata": {
        "colab": {
          "base_uri": "https://localhost:8080/"
        },
        "id": "MabjweW7GmBy",
        "outputId": "54ffe5fe-396e-48cd-ea53-3fba92d17d91"
      },
      "source": [
        "#3.16. Substring Count\n",
        "\n",
        "##OLMADI-RECURSIVE\n",
        "# count=0\n",
        "# def substring_count(big_str,sub_str):\n",
        "#     global count\n",
        "#     x=len(sub_str)\n",
        "#     if sub_str == big_str[0:x]:\n",
        "#         count+=1\n",
        "#     substring_count(big_str[1::],sub_str)\n",
        "#     if big_str ==\"\":\n",
        "#         return count\n",
        "\n",
        "def substring_count(big_str,sub_str):\n",
        "    count=0\n",
        "    len_sub=len(sub_str)\n",
        "    len_big=len(big_str)\n",
        "    for i in range(0,len_big-len_sub+1):\n",
        "        if sub_str==big_str[i:i+len_sub]:\n",
        "            count+=1\n",
        "    return count\n",
        "\n",
        "print(substring_count(\"ababa\",\"aba\"))"
      ],
      "execution_count": null,
      "outputs": [
        {
          "output_type": "stream",
          "text": [
            "2\n"
          ],
          "name": "stdout"
        }
      ]
    },
    {
      "cell_type": "code",
      "metadata": {
        "colab": {
          "base_uri": "https://localhost:8080/"
        },
        "id": "fLyfor-Ys62_",
        "outputId": "339ce48e-d658-44c4-c7f8-48ab46a39f20"
      },
      "source": [
        "#3.17. Exercise: Reduce Number\n",
        "def reduce_number(number):\n",
        "    sum=0\n",
        "    num_list=list(str(number))\n",
        "    for item in num_list:\n",
        "        sum+=int(item)\n",
        "    if sum<10: return sum\n",
        "    elif sum>=10:\n",
        "        return reduce_number(sum)\n",
        "\n",
        "\n",
        "print(reduce_number(19999999999999))\n"
      ],
      "execution_count": null,
      "outputs": [
        {
          "output_type": "stream",
          "text": [
            "1\n"
          ],
          "name": "stdout"
        }
      ]
    },
    {
      "cell_type": "code",
      "metadata": {
        "colab": {
          "base_uri": "https://localhost:8080/"
        },
        "id": "ZDAoykZrvPuY",
        "outputId": "30555517-ea5d-4c93-deec-e3778b9441ed"
      },
      "source": [
        "#3.19. My Range\n",
        "\n",
        "def my_range(start,stop,step):\n",
        "    new_list=[]\n",
        "    i=start\n",
        "    while i<stop:\n",
        "        new_list+=[i]\n",
        "        i=i+step\n",
        "    return new_list\n",
        "\n",
        "print(my_range(3, 10,1))"
      ],
      "execution_count": null,
      "outputs": [
        {
          "output_type": "stream",
          "text": [
            "[3, 4, 5, 6, 7, 8, 9]\n"
          ],
          "name": "stdout"
        }
      ]
    },
    {
      "cell_type": "code",
      "metadata": {
        "colab": {
          "base_uri": "https://localhost:8080/"
        },
        "id": "USv98UoYvTaY",
        "outputId": "f4ae081a-8d44-469f-ac37-af85854f284d"
      },
      "source": [
        "#3.19. Even Numbers\n",
        "def is_even(number):\n",
        "    if number==0: return \"True\"\n",
        "    elif number==1: return \"False\"\n",
        "    else:\n",
        "        x=number-2\n",
        "        return is_even(x)\n",
        "\n",
        "print(is_even(0))"
      ],
      "execution_count": null,
      "outputs": [
        {
          "output_type": "stream",
          "text": [
            "True\n"
          ],
          "name": "stdout"
        }
      ]
    },
    {
      "cell_type": "code",
      "metadata": {
        "colab": {
          "base_uri": "https://localhost:8080/"
        },
        "id": "MKla22R82qKM",
        "outputId": "6bd871d2-909c-4d78-89f9-4975513bc311"
      },
      "source": [
        "#3.20. First Non-Prime\n",
        "[2,3,4,7]\n",
        "num=7\n",
        "def prime(num):\n",
        "    if num==2: return True\n",
        "    check=True\n",
        "    for i in range(num//2+1,1,-1):\n",
        "        if num%i==0: check= False\n",
        "    return check        \n",
        "def find_first_non_prime(num_list):\n",
        "    for item in num_list:\n",
        "        if prime(item)==False: return item\n",
        "    return False\n",
        "         \n",
        "print(find_first_non_prime([2,3,51,19]))"
      ],
      "execution_count": null,
      "outputs": [
        {
          "output_type": "stream",
          "text": [
            "51\n"
          ],
          "name": "stdout"
        }
      ]
    },
    {
      "cell_type": "code",
      "metadata": {
        "id": "LwK1E3w4OdeA",
        "colab": {
          "base_uri": "https://localhost:8080/"
        },
        "outputId": "42423b37-171e-4da4-ec9a-b672bc29a3d1"
      },
      "source": [
        "#3.21. The Game of Divisors\n",
        "def divisor(num):\n",
        "    count=0\n",
        "    i=num\n",
        "    while i>0:\n",
        "        if num%i==0:count+=1\n",
        "        i-=1\n",
        "    return count\n",
        "\n",
        "\n",
        "\n",
        "def winner(N,O):\n",
        "    if divisor(N)>divisor(O):return \"Nazif\"\n",
        "    elif divisor(N)<divisor(O): return \"Osman\"\n",
        "    else:return \"Draw\"\n",
        "\n",
        "\n",
        "print(winner(120, 144))\n",
        "print(winner(191, 190))\n",
        "print(winner(4, 121))"
      ],
      "execution_count": null,
      "outputs": [
        {
          "output_type": "stream",
          "text": [
            "Nazif\n",
            "Osman\n",
            "Draw\n"
          ],
          "name": "stdout"
        }
      ]
    },
    {
      "cell_type": "code",
      "metadata": {
        "colab": {
          "base_uri": "https://localhost:8080/"
        },
        "id": "6mMpyCYNui3e",
        "outputId": "b2a9f011-8038-4d79-8c6d-ecae4b4af592"
      },
      "source": [
        "#3.23. Exercise: Perfect Number\n",
        "def div_list(num):\n",
        "    div_list=[]\n",
        "    i=num-1\n",
        "    while i>0:\n",
        "        if num%i==0:\n",
        "            div_list+=[i]\n",
        "        i-=1\n",
        "    return div_list\n",
        "def is_perfect(num):\n",
        "    d_list=div_list(num)\n",
        "    total=0\n",
        "    for i in d_list:\n",
        "        total+=i\n",
        "    if total== num: return \"True\"\n",
        "    else: return \"False\"\n",
        "\n",
        "\n",
        "\n",
        "print(is_perfect(6))\n",
        "print(is_perfect(7))\n",
        "print(is_perfect(28))\n",
        "print(is_perfect(30))\n",
        "\n"
      ],
      "execution_count": null,
      "outputs": [
        {
          "output_type": "stream",
          "text": [
            "True\n",
            "False\n",
            "True\n",
            "False\n"
          ],
          "name": "stdout"
        }
      ]
    },
    {
      "cell_type": "code",
      "metadata": {
        "colab": {
          "base_uri": "https://localhost:8080/"
        },
        "id": "AY_wSY02v7By",
        "outputId": "9c320241-1a01-4a1a-8f5f-9d39c6f9bd64"
      },
      "source": [
        "#3.23. Anagram\n",
        "def anagram(str1,str2):\n",
        "    emp_dict={}\n",
        "    emp_dict_2={}\n",
        "\n",
        "    for i in str1:\n",
        "        if i in emp_dict:\n",
        "            count=emp_dict[i]\n",
        "            emp_dict[i]=count+1\n",
        "        else:\n",
        "            emp_dict[i]=1\n",
        "\n",
        "    for j in str2:\n",
        "        if j in emp_dict_2:\n",
        "            count=emp_dict_2[j]\n",
        "            emp_dict_2[j]=count+1\n",
        "        else:\n",
        "            emp_dict_2[j]=1\n",
        "        \n",
        "    \n",
        "    if  emp_dict== emp_dict_2: return \"True\"\n",
        "    else: return \"False\"\n",
        "    \n",
        "\n",
        "print(anagram('palm', 'lamp'))\n",
        "print(anagram('hello', 'olla'))"
      ],
      "execution_count": null,
      "outputs": [
        {
          "output_type": "stream",
          "text": [
            "{'l': 1, 'a': 1, 'm': 1, 'p': 1}\n",
            "True\n",
            "{'o': 1, 'l': 2, 'a': 1}\n",
            "False\n"
          ],
          "name": "stdout"
        }
      ]
    }
  ]
}