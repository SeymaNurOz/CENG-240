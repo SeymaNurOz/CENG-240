{
  "nbformat": 4,
  "nbformat_minor": 0,
  "metadata": {
    "colab": {
      "name": "Workbook-2(w5-6)-condition-loop.ipynb",
      "provenance": [],
      "collapsed_sections": []
    },
    "kernelspec": {
      "name": "python3",
      "display_name": "Python 3"
    },
    "language_info": {
      "name": "python"
    }
  },
  "cells": [
    {
      "cell_type": "code",
      "metadata": {
        "id": "kxlGU3dgrJqP"
      },
      "source": [
        ""
      ],
      "execution_count": null,
      "outputs": []
    },
    {
      "cell_type": "code",
      "metadata": {
        "colab": {
          "base_uri": "https://localhost:8080/"
        },
        "id": "GFuhbJbCkJa1",
        "outputId": "4674d44b-0bf5-4e3f-dfa6-91a7ab0b1aba"
      },
      "source": [
        "#2.1. Letter Grade\n",
        "grade= int(input())\n",
        "\n",
        "if grade >= 90:\n",
        "    print(\"AA\")\n",
        "elif grade>=85:\n",
        "    print(\"BA\")\n",
        "elif grade>=80:\n",
        "    print(\"BB\")\n",
        "elif grade>=75:\n",
        "    print(\"CB\")\n",
        "elif grade>=70:\n",
        "    print(\"CC\")\n",
        "elif grade>=65:\n",
        "    print(\"DC\")\n",
        "elif grade>=60:\n",
        "    print(\"DD\")\n",
        "elif grade>=50:\n",
        "    print(\"FD\")\n",
        "else:\n",
        "    print(\"FF\")\n"
      ],
      "execution_count": null,
      "outputs": [
        {
          "output_type": "stream",
          "text": [
            "71\n",
            "CC\n"
          ],
          "name": "stdout"
        }
      ]
    },
    {
      "cell_type": "code",
      "metadata": {
        "colab": {
          "base_uri": "https://localhost:8080/"
        },
        "id": "TidMsTgAnD3c",
        "outputId": "6f1c7538-7449-4136-90ee-e75120067ed2"
      },
      "source": [
        "#2.2.Even or Odd\n",
        "num =int(input())\n",
        "first_digit=num//100\n",
        "if num%2==0 and first_digit%2==0:\n",
        "    print(\"EVEN\")\n",
        "elif num%2==1 and first_digit%2==0:\n",
        "    print(\"odd even\")\n",
        "elif num%2==0 and first_digit%2==1:\n",
        "    print(\"even odd\")\n",
        "else:\n",
        "    print(\"ODD\")"
      ],
      "execution_count": null,
      "outputs": [
        {
          "output_type": "stream",
          "text": [
            "857\n",
            "odd even\n"
          ],
          "name": "stdout"
        }
      ]
    },
    {
      "cell_type": "code",
      "metadata": {
        "colab": {
          "base_uri": "https://localhost:8080/"
        },
        "id": "PuuEP40rpq-N",
        "outputId": "1fac8cdf-dd9e-46dc-e7f3-bcf118e2e3b9"
      },
      "source": [
        "#2.3. Ticket Price \n",
        "ages = eval(input())\n",
        "sum=0\n",
        "for age in ages:\n",
        "    if age>60:\n",
        "        sum=sum+30\n",
        "    elif age>25:\n",
        "        sum=sum+90\n",
        "    elif age>10:\n",
        "        sum=sum+60\n",
        "    else:\n",
        "        sum=sum+30\n",
        "print(sum)\n"
      ],
      "execution_count": null,
      "outputs": [
        {
          "output_type": "stream",
          "text": [
            "[33]\n",
            "90\n"
          ],
          "name": "stdout"
        }
      ]
    },
    {
      "cell_type": "markdown",
      "metadata": {
        "id": "m_RNmA9mwNWH"
      },
      "source": [
        ""
      ]
    },
    {
      "cell_type": "code",
      "metadata": {
        "colab": {
          "base_uri": "https://localhost:8080/"
        },
        "id": "LflKl7Smresl",
        "outputId": "b383f712-c9fa-4d50-b571-c6b86f11e63e"
      },
      "source": [
        "#2.4. Orders from Abroad\n",
        "num = int(input())\n",
        "\n",
        "tax=0\n",
        "for i in range(num):\n",
        "    price=int(input())\n",
        "    if price<=100:\n",
        "        tax+=0\n",
        "    elif price<=1000:\n",
        "        tax+=price*0.1\n",
        "    else:\n",
        "        tax+=price*0.2\n",
        "print(\"{:.1f}\".format(tax))"
      ],
      "execution_count": null,
      "outputs": [
        {
          "output_type": "stream",
          "text": [
            "3\n",
            "80\n",
            "1000\n",
            "200\n",
            "120.0\n"
          ],
          "name": "stdout"
        }
      ]
    },
    {
      "cell_type": "code",
      "metadata": {
        "colab": {
          "base_uri": "https://localhost:8080/"
        },
        "id": "JiY1SChR0MUN",
        "outputId": "702fc300-2761-4218-cee9-40a0541b2802"
      },
      "source": [
        "#2.5. Winner Team in Board Game\n",
        "matrix = eval(input())\n",
        "sum = 0\n",
        "\n",
        "for sıra in matrix:\n",
        "    # print(sıra)\n",
        "    for eleman in sıra:\n",
        "        # print(eleman)\n",
        "        if eleman<0:\n",
        "            sum+= -1*eleman\n",
        "print(sum)"
      ],
      "execution_count": null,
      "outputs": [
        {
          "output_type": "stream",
          "text": [
            "[[-3, -3, 1, -4, 2], [4, -3, -5, 2, 1], [4, 2, 2, 1, 3], [-1, -5, -3, 5, -4], [-3, -3, 5, -2, -3]]\n",
            "42\n"
          ],
          "name": "stdout"
        }
      ]
    },
    {
      "cell_type": "code",
      "metadata": {
        "id": "esMfQEgD5-bh",
        "colab": {
          "base_uri": "https://localhost:8080/"
        },
        "outputId": "c1a945f5-0f27-41e1-842b-ce1cb839e5e8"
      },
      "source": [
        "#2.6. Apple Tree Garden\n",
        "apples = eval(input())\n",
        "harvest_list=[]\n",
        "sum=0\n",
        "for row in apples:\n",
        "    for i in range(len(row)):\n",
        "        sum += row[i]\n",
        "    harvest_list.append(sum)\n",
        "    sum=0\n",
        "#print(harvest_list)\n",
        "max_harvest=max(harvest_list)\n",
        "for i in range(len(harvest_list)):\n",
        "    if max_harvest == harvest_list[i]:\n",
        "        k=i\n",
        "print(apples[k])\n",
        "##KITAP COZUMU\n",
        "# M, N = len(G), len(G[0])    # dimensions of matrix\n",
        "# max_row_index = 0\n",
        "# max_row_sum = 0\n",
        "\n",
        "# for r in range(M):\n",
        "#     row_sum = 0\n",
        "#     for c in range(N):\n",
        "#         row_sum += G[r][c]\n",
        "\n",
        "#     if row_sum > max_row_sum:\n",
        "#         max_row_sum = row_sum\n",
        "#         max_row_index = r\n",
        "\n",
        "# max_row = G[max_row_index]\n",
        "# print(max_row)"
      ],
      "execution_count": null,
      "outputs": [
        {
          "output_type": "stream",
          "text": [
            "[[20, 10, 20, 30, 80, 80, 50, 80, 40, 40], [20, 10, 50, 10, 20, 90, 90, 20, 60, 20],      [50, 50, 90, 10, 60, 30, 60, 20, 40, 60], [20, 80, 60, 80, 90, 20, 20, 60, 80, 30],      [10, 30, 50, 60, 20, 10, 90, 50, 80, 70]]\n",
            "[20, 80, 60, 80, 90, 20, 20, 60, 80, 30]\n"
          ],
          "name": "stdout"
        }
      ]
    },
    {
      "cell_type": "code",
      "metadata": {
        "id": "rbjkofFDXuiW",
        "colab": {
          "base_uri": "https://localhost:8080/"
        },
        "outputId": "a68bdab8-e797-4a6d-8907-01a5f8207632"
      },
      "source": [
        "#2.7. Exercise: New Apple Garden Tree\n",
        "G = eval(input())\n",
        "num_row=len(G)\n",
        "num_column=len(G[0])\n",
        "max_column=0\n",
        "max_column_no=0\n",
        "for j in range(num_column):\n",
        "    sum=0\n",
        "    for i in range(num_row):   \n",
        "        sum=sum+(G[i][j])\n",
        "    if sum>max_column:\n",
        "        max_column=sum\n",
        "        max_column_no=j\n",
        "print(j)\n",
        "result_list=[]\n",
        "for i in range(num_row):\n",
        "    result_list.append(G[i][max_column_no])\n",
        "print(result_list)"
      ],
      "execution_count": null,
      "outputs": [
        {
          "output_type": "stream",
          "text": [
            "[[90, 10, 90, 40, 10], [70, 70, 80, 20, 30], [40, 60, 20, 90, 40], [40, 50, 50, 30, 20], [20, 30, 30, 80, 30], [90, 70, 20, 10, 60], [70, 90, 40, 40, 10]]\n",
            "4\n",
            "[90, 70, 40, 40, 20, 90, 70]\n"
          ],
          "name": "stdout"
        }
      ]
    },
    {
      "cell_type": "code",
      "metadata": {
        "colab": {
          "base_uri": "https://localhost:8080/"
        },
        "id": "qU6xlY1Ij_zG",
        "outputId": "ce679b76-d7a1-4291-ccc2-417ddb2db8d0"
      },
      "source": [
        "#2.8. Repeated Strings\n",
        "string=input()\n",
        "le=len(string)\n",
        "liste= list(string)\n",
        "le_2=int(le/2)\n",
        "if le%2==1:\n",
        "    print(\"Error\")\n",
        "elif liste[:le_2]==liste[le_2:]:\n",
        "    print(\"Yes\")\n",
        "else:\n",
        "    print(\"no\")"
      ],
      "execution_count": null,
      "outputs": [
        {
          "output_type": "stream",
          "text": [
            "aba\n",
            "Error\n"
          ],
          "name": "stdout"
        }
      ]
    },
    {
      "cell_type": "code",
      "metadata": {
        "id": "72w5vOnXnCX3",
        "colab": {
          "base_uri": "https://localhost:8080/"
        },
        "outputId": "21c8033c-d39e-4636-9e4d-27a313d36dc3"
      },
      "source": [
        "#2.9. Exercise: Office Olympics \n",
        "wins_list = eval(input())\n",
        "grup=[]\n",
        "top_name=[]\n",
        "\n",
        "for i in range(len(wins_list)):\n",
        "    grup.append(wins_list[i][1])\n",
        "x=sorted(grup)\n",
        "top_num=x[-3:]\n",
        "\n",
        "for i in range(len(wins_list)):\n",
        "    for j in range(len(top_num)):\n",
        "        if top_num[j]==wins_list[i][1]:\n",
        "            top_name.append(wins_list[i][0])\n",
        "top_name=top_name[::-1]\n",
        "print(top_name) \n",
        "top_num       "
      ],
      "execution_count": null,
      "outputs": [
        {
          "output_type": "stream",
          "text": [
            "[(\"jim\", 1), (\"pam\", 4), (\"jan\", 10), (\"creed\", 7), (\"micheal\", 5), (\"meredith\", 2), (\"phyllis\", 28)]\n",
            "['phyllis', 'creed', 'jan']\n"
          ],
          "name": "stdout"
        },
        {
          "output_type": "execute_result",
          "data": {
            "text/plain": [
              "[7, 10, 28]"
            ]
          },
          "metadata": {
            "tags": []
          },
          "execution_count": 1
        }
      ]
    },
    {
      "cell_type": "code",
      "metadata": {
        "colab": {
          "base_uri": "https://localhost:8080/"
        },
        "id": "uGN_8rauPcSL",
        "outputId": "29671c18-3c94-4573-a89f-eb8872975e83"
      },
      "source": [
        "#2.10. Exercise: Good Old Tiling\n",
        "n = int(input())\n",
        "m = int(input())\n",
        "i=min(m,n)\n",
        "while i>0:\n",
        "    if m%i==0 and n%i==0:\n",
        "        print(i)\n",
        "        break\n",
        "    i=i-1\n"
      ],
      "execution_count": null,
      "outputs": [
        {
          "output_type": "stream",
          "text": [
            "12\n",
            "9\n",
            "3\n"
          ],
          "name": "stdout"
        }
      ]
    },
    {
      "cell_type": "code",
      "metadata": {
        "colab": {
          "base_uri": "https://localhost:8080/"
        },
        "id": "IuBOp_Ytli01",
        "outputId": "3e9ec759-35cd-4286-a128-e0ec5fc4e791"
      },
      "source": [
        "#2.11. Exercise: Triangle\n",
        "edge1=int(input())\n",
        "edge2=int(input())\n",
        "edge3=int(input())\n",
        "big=max(edge1,edge2,edge3)\n",
        "sum=edge1+edge2+edge3\n",
        "if (sum-big)>big:\n",
        "    print(\"YES\")\n",
        "else:\n",
        "    print(\"NO\")"
      ],
      "execution_count": null,
      "outputs": [
        {
          "output_type": "stream",
          "text": [
            "2\n",
            "1\n",
            "1\n",
            "NO\n"
          ],
          "name": "stdout"
        }
      ]
    },
    {
      "cell_type": "code",
      "metadata": {
        "id": "K3ct__T6nU64",
        "colab": {
          "base_uri": "https://localhost:8080/"
        },
        "outputId": "d6340b06-d1e1-4765-f13f-115a196fb859"
      },
      "source": [
        "#2.12. Exercise: Fizz Buzz\n",
        "number=int(input())\n",
        "\n",
        "output = \"\"\n",
        "for i in range(1,number+1):\n",
        "    if i%3==0 and i%5==0:\n",
        "        output=output+\"  \"+str(\"FizzBuzz\")\n",
        "    elif i%3==0:\n",
        "        output=output+\"  \"+str(\"Fizz\")\n",
        "    elif i%5==0:\n",
        "        output=output+\"  \"+str(\"Buzz\")\n",
        "    else:\n",
        "        output=output+\"  \"+str(i)\n",
        "print(output)\n",
        "#Hint: The sample i/o given below is printed by calling the  print()  function with the additional argument end as '\\t' (e.g. print(\"Fizz\", end='\\t')) for the sake of readability.\n",
        "#HINT I ANLAMADIM"
      ],
      "execution_count": null,
      "outputs": [
        {
          "output_type": "stream",
          "text": [
            "  1  2  Fizz  4  Buzz  Fizz  7  8  Fizz  Buzz  11  Fizz  13  14  FizzBuzz  16  17  Fizz  19  Buzz  Fizz  22  23  Fizz  Buzz  26  Fizz  28  29  FizzBuzz  31  32  Fizz  34  Buzz  Fizz  37  38  Fizz  Buzz  41  Fizz  43  44  FizzBuzz  46  47\n"
          ],
          "name": "stdout"
        }
      ]
    },
    {
      "cell_type": "code",
      "metadata": {
        "colab": {
          "base_uri": "https://localhost:8080/"
        },
        "id": "IfblQZFx_Zfn",
        "outputId": "4210ec87-0ebc-4b1f-8ab4-0de62178a867"
      },
      "source": [
        "#2.13. Binary Planet\n",
        "num=int(input())\n",
        "binary=\"\"\n",
        "for i in range(8):\n",
        "    rmd=int(num%2)\n",
        "    binary=str(rmd)+binary\n",
        "    num=(num-rmd)/2\n",
        "\n",
        "print(binary)"
      ],
      "execution_count": null,
      "outputs": [
        {
          "output_type": "stream",
          "text": [
            "255\n",
            "11111111\n"
          ],
          "name": "stdout"
        }
      ]
    },
    {
      "cell_type": "code",
      "metadata": {
        "colab": {
          "base_uri": "https://localhost:8080/"
        },
        "id": "ELM9iIBiA0hW",
        "outputId": "a7a24720-994d-405b-dda9-cfad157452f6"
      },
      "source": [
        "#2.14. Run-length Encoding\n",
        "text=input()\n",
        "text_lis=list(text)\n",
        "count=0\n",
        "letter=text_lis[0]\n",
        "result=\"\"\n",
        "\n",
        "\n",
        "for i in range(len(text_lis)):\n",
        "    if text_lis[i]==letter:\n",
        "        count=count+1\n",
        "    else:\n",
        "        result=result+str(count)+str(letter)\n",
        "        letter=text_lis[i]\n",
        "        count=1\n",
        "result=result+str(count)+str(letter)\n",
        "\n",
        "print(result)"
      ],
      "execution_count": null,
      "outputs": [
        {
          "output_type": "stream",
          "text": [
            "AABBA\n",
            "2A2B1A\n"
          ],
          "name": "stdout"
        }
      ]
    },
    {
      "cell_type": "code",
      "metadata": {
        "colab": {
          "base_uri": "https://localhost:8080/"
        },
        "id": "JEh5P5Rx77jB",
        "outputId": "68145b5d-0fb0-43d1-f2fe-ea1820a0b09f"
      },
      "source": [
        "#2.15. Exercise: Connect Four\n",
        "length=int(input())\n",
        "r1=list(input())\n",
        "r2=list(input())\n",
        "r3=list(input())\n",
        "r4=list(input())\n",
        "\n",
        "matrix=[r1,r2,r3,r4]\n",
        "print(matrix)\n",
        "check=False\n",
        "\n",
        "#sıra için\n",
        "for i in range(length):\n",
        "    ref=matrix[i][0]\n",
        "    control=0\n",
        "    for j in range(length):\n",
        "        if matrix[i][j]==ref:\n",
        "            control+=1\n",
        "        if control==length:check=True\n",
        "\n",
        "\n",
        "            \n",
        "\n",
        "#column\n",
        "for j in range(length):\n",
        "    ref=matrix[0][j]\n",
        "    control=0\n",
        "    for i in range(length):\n",
        "        if matrix[i][j]==ref:\n",
        "            control+=1\n",
        "        if control==length:check=True\n",
        "\n",
        "#çapraz\n",
        "for i in range(length):\n",
        "    ref=matrix[0][0]\n",
        "    control=0\n",
        "    if ref==matrix[i][i]:\n",
        "        control+=1\n",
        "    if control==length:check=True\n",
        "\n",
        "# diğer çapraz\n",
        "for i in range(length):\n",
        "    ref=matrix[0][length-1]\n",
        "    control=0\n",
        "    if ref==matrix[i][length-i-1]:\n",
        "        control+=1\n",
        "    if control==length:check=True\n",
        "\n",
        "\n",
        "\n",
        "\n",
        "\n",
        "if check==True:\n",
        "    print(\"yes\")\n",
        "elif check==False:\n",
        "    print(\"no\")\n",
        "        "
      ],
      "execution_count": null,
      "outputs": [
        {
          "output_type": "stream",
          "text": [
            "4\n",
            "RY..\n",
            "YYYR\n",
            "RYRY\n",
            "YRRY\n",
            "[['R', 'Y', '.', '.'], ['Y', 'Y', 'Y', 'R'], ['R', 'Y', 'R', 'Y'], ['Y', 'R', 'R', 'Y']]\n",
            "1\n",
            ".\n",
            "no\n"
          ],
          "name": "stdout"
        }
      ]
    },
    {
      "cell_type": "code",
      "metadata": {
        "colab": {
          "base_uri": "https://localhost:8080/"
        },
        "id": "auZdG4YR3tq5",
        "outputId": "7d8f4999-4831-4430-de0d-01842b2fe691"
      },
      "source": [
        "#2.16. Obsessed Tiler \n",
        "T=eval(input())\n",
        "length=len(T)\n",
        "symmetry=True\n",
        "\n",
        "for i in range(0,length):\n",
        "    for j in range(0,length):\n",
        "        print(T[i][j])\n",
        "        if T[i][j] != T[length-i-1][length-j-1]:\n",
        "            print(T[i][j],T[i][length-j-1])\n",
        "            symmetry=False\n",
        "        if symmetry==False : break\n",
        "\n",
        "\n",
        "if symmetry==True:print(\"True\")\n",
        "elif symmetry==False:print(\"False\")\n"
      ],
      "execution_count": null,
      "outputs": [
        {
          "output_type": "stream",
          "text": [
            "[[1, 0, 0], [1, 0, 1], [1, 0, 1]]\n",
            "1\n",
            "0\n",
            "0\n",
            "0 1\n",
            "1\n",
            "1\n",
            "1 1\n",
            "False\n"
          ],
          "name": "stdout"
        }
      ]
    },
    {
      "cell_type": "code",
      "metadata": {
        "colab": {
          "base_uri": "https://localhost:8080/"
        },
        "id": "8Wat7iU9sg0A",
        "outputId": "4310f0ad-57a0-485f-a76c-4f4930ec0dfc"
      },
      "source": [
        "#2.17. Matrix Multiplication\n",
        "A=[[12, 7, 3], [4, 5, 6], [7, 8, 9]]\n",
        "B=[[5, 8, 1, 2], [6, 7, 3, 0], [4, 5, 9, 1]]\n",
        "\n",
        "m=len(A)\n",
        "n=len(B)\n",
        "p=len(B[0])\n",
        "sum=0\n",
        "result_matrix=[[0]*p]*m\n",
        "#m-p\n",
        "for i in range(0,m):\n",
        "    for j in range(0,p):\n",
        "        \n",
        "        for k in range(n):\n",
        "            sum=sum+A[i][k]*B[k][j]\n",
        "            # print(sum)\n",
        "            result_matrix[i][j]=sum\n",
        "        sum=0\n",
        "        # print(result_matrix)\n",
        "\n",
        "\n",
        "print(result_matrix)"
      ],
      "execution_count": null,
      "outputs": [
        {
          "output_type": "stream",
          "text": [
            "[[119, 157, 112, 23], [119, 157, 112, 23], [119, 157, 112, 23]]\n"
          ],
          "name": "stdout"
        }
      ]
    },
    {
      "cell_type": "code",
      "metadata": {
        "colab": {
          "base_uri": "https://localhost:8080/"
        },
        "id": "7ulhq-x_jhwl",
        "outputId": "9968e148-7b4c-4502-bf7c-82760c607ffa"
      },
      "source": [
        "#2.18. Exercise: Incomplete Data\n",
        "R = eval(input())\n",
        "M=len(R)\n",
        "N=len(R[0])\n",
        "count=0\n",
        "sum=0\n",
        "for i in range(M):\n",
        "    for j in range(N):\n",
        "        \n",
        "        \n",
        "        if R[i][j]==\"NaN\":\n",
        "            count+=1\n",
        "        else:\n",
        "            sum+=R[i][j]\n",
        "\n",
        "avarage=sum/(M*N-count)\n",
        "print(round(avarage,3))\n"
      ],
      "execution_count": null,
      "outputs": [
        {
          "output_type": "stream",
          "text": [
            "[[0.464, 0.856, 'NaN', 0.126, 0.707],      [0.822, 0.453, 0.941, 'NaN', 0.985],      [0.535, 0.169, 'NaN', 0.334, 0.566],      [0.136, 0.133, 0.513, 'NaN', 'NaN'],      [0.054, 0.686, 0.19, 0.164, 0.737]]\n",
            "0.479\n"
          ],
          "name": "stdout"
        }
      ]
    },
    {
      "cell_type": "code",
      "metadata": {
        "colab": {
          "base_uri": "https://localhost:8080/"
        },
        "id": "yByaAiCsl15k",
        "outputId": "dd18ff19-4192-4de6-9561-6a41bc886227"
      },
      "source": [
        "#2.19. Emotional Chatbot \n",
        "# text=input()\n",
        "text=input()\n",
        "list_text=text\n",
        "length=len(list_text)\n",
        "\n",
        "for i in range(length//2) :\n",
        "\n",
        "    if list_text[0:2]==\"uh\":\n",
        "        list_text=list_text[2:]\n",
        "    \n",
        "if list_text==\"u\":\n",
        "    print( \"Are you sad, hooman?\")\n",
        "elif list_text==\"\":\n",
        "    print(\"Are you sad, hooman?\")\n",
        "else:print(\"I am so sad, hooman.\")\n"
      ],
      "execution_count": null,
      "outputs": [
        {
          "output_type": "stream",
          "text": [
            "uhuhuhuhu\n",
            "Are you sad, hooman?\n"
          ],
          "name": "stdout"
        }
      ]
    },
    {
      "cell_type": "code",
      "metadata": {
        "colab": {
          "base_uri": "https://localhost:8080/"
        },
        "id": "uQgvECyH_z2e",
        "outputId": "31f56cf8-db21-4324-dfdb-1feaaee9d37b"
      },
      "source": [
        "#2.20. Minesweeper\n",
        "B = eval(input())\n",
        "\n",
        "M=len(B)\n",
        "N=len(B[0])\n",
        "\n",
        "for i in range(M):\n",
        "    for j in range(N):\n",
        "        count=0\n",
        "        if  B[i][j]==\"m\":\n",
        "            pass\n",
        "        \n",
        "        else:\n",
        "            if i>0 and B[i-1][j]==\"m\": count+=1\n",
        "            if i<M-1 and B[i+1][j]==\"m\": count+=1\n",
        "            if j>0 and B[i][j-1]==\"m\":count+=1\n",
        "            if j<N-1 and B[i][j+1]==\"m\":count+=1\n",
        "            B[i][j]=count\n",
        "\n",
        "print(B)\n",
        "\n",
        "\n"
      ],
      "execution_count": null,
      "outputs": [
        {
          "output_type": "stream",
          "text": [
            "[['_', '_', '_', 'm', '_', '_', '_'],      ['_', '_', '_', 'm', 'm', 'm', 'm'],      ['_', '_', '_', '_', '_', 'm', 'm'],      ['m', '_', 'm', '_', 'm', '_', 'm'],      ['m', '_', '_', 'm', 'm', 'm', '_'],      ['_', '_', '_', '_', 'm', 'm', '_'],      ['_', '_', '_', 'm', '_', 'm', '_']]\n",
            "[[0, 0, 1, 'm', 2, 1, 1], [0, 0, 1, 'm', 'm', 'm', 'm'], [1, 0, 1, 1, 3, 'm', 'm'], ['m', 2, 'm', 3, 'm', 4, 'm'], ['m', 1, 2, 'm', 'm', 'm', 2], [1, 0, 0, 3, 'm', 'm', 1], [0, 0, 1, 'm', 3, 'm', 1]]\n"
          ],
          "name": "stdout"
        }
      ]
    },
    {
      "cell_type": "code",
      "metadata": {
        "colab": {
          "base_uri": "https://localhost:8080/"
        },
        "id": "agcQDpZpXWz-",
        "outputId": "38d76a8e-92b6-4f82-90b6-5bd8ad55fc98"
      },
      "source": [
        "#2.21. Exercise: Original Minesweeper\n",
        "B = eval(input())\n",
        "\n",
        "M=len(B)\n",
        "N=len(B[0])\n",
        "\n",
        "for i in range(M):\n",
        "    for j in range(N):\n",
        "        count=0\n",
        "        if  B[i][j]==\"m\":\n",
        "            pass\n",
        "        \n",
        "        else:\n",
        "            if i>0 and B[i-1][j]==\"m\": count+=1\n",
        "            if i<M-1 and B[i+1][j]==\"m\": count+=1\n",
        "            if j>0 and B[i][j-1]==\"m\":count+=1\n",
        "            if j<N-1 and B[i][j+1]==\"m\":count+=1\n",
        "            if i>0 and j>0 and B[i-1][j-1]==\"m\": count+=1\n",
        "            if i>0 and j<N-1 and B[i-1][j+1]==\"m\": count+=1\n",
        "            if i<M-1 and j>0 and B[i+1][j-1]==\"m\": count+=1\n",
        "            if i<M-1 and j<N-1 and B[i+1][j+1]==\"m\": count+=1\n",
        "\n",
        "            B[i][j]=count\n",
        "\n",
        "print(B\n",
        "      )"
      ],
      "execution_count": null,
      "outputs": [
        {
          "output_type": "stream",
          "text": [
            "[['_', '_', '_', 'm', '_', '_', '_'],      ['_', '_', '_', 'm', 'm', 'm', 'm'],      ['_', '_', '_', '_', '_', 'm', 'm'],      ['m', '_', 'm', '_', 'm', '_', 'm'],      ['m', '_', '_', 'm', 'm', 'm', '_'],      ['_', '_', '_', '_', 'm', 'm', '_'],      ['_', '_', '_', 'm', '_', 'm', '_']]\n",
            "[[0, 0, 2, 'm', 4, 3, 2], [0, 0, 2, 'm', 'm', 'm', 'm'], [1, 2, 2, 4, 5, 'm', 'm'], ['m', 3, 'm', 4, 'm', 6, 'm'], ['m', 3, 2, 'm', 'm', 'm', 3], [1, 1, 2, 4, 'm', 'm', 3], [0, 0, 1, 'm', 4, 'm', 2]]\n"
          ],
          "name": "stdout"
        }
      ]
    },
    {
      "cell_type": "code",
      "metadata": {
        "colab": {
          "base_uri": "https://localhost:8080/"
        },
        "id": "GDXPtYcyZHxO",
        "outputId": "307cba02-7788-454c-bcf8-5cf54c775a53"
      },
      "source": [
        "#2.22. N-Queen \n",
        "B= eval(input())\n",
        "N =len(B)\n",
        "attack=False\n",
        "\n",
        "for i in range(N):\n",
        "    for j in range(N):\n",
        "\n",
        "        if B[i][j]==\"q\":\n",
        "            if i>0  and B[i-1][j]==\"q\":attack=True\n",
        "            if i<N-1  and B[i+1][j]==\"q\":attack=True\n",
        "            if j>0  and B[i][j-1]==\"q\":attack=True\n",
        "            if j<N-1  and B[i][j+1]==\"q\":attack=True\n",
        "\n",
        "\n",
        "if attack==False:print(\"YES\")\n",
        "else:print(\"NO\")\n",
        "\n"
      ],
      "execution_count": null,
      "outputs": [
        {
          "output_type": "stream",
          "text": [
            "[ [\"_\", \"_\", \"q\", \"_\"]         , [\"q\", \"_\", \"_\", \"_\"]         , [\"_\", \"_\", \"_\", \"q\"]         , [\"_\", \"q\", \"_\", \"_\"]         ]\n",
            "YES\n"
          ],
          "name": "stdout"
        }
      ]
    },
    {
      "cell_type": "code",
      "metadata": {
        "colab": {
          "base_uri": "https://localhost:8080/",
          "height": 296
        },
        "id": "mDrJJHakZ3cU",
        "outputId": "c6fa10a6-e62d-4a63-f682-4aea3d16f000"
      },
      "source": [
        ""
      ],
      "execution_count": null,
      "outputs": [
        {
          "output_type": "stream",
          "text": [
            "1000000\n",
            "3\n",
            "5\n",
            "5 199997\n"
          ],
          "name": "stdout"
        },
        {
          "output_type": "error",
          "ename": "ZeroDivisionError",
          "evalue": "ignored",
          "traceback": [
            "\u001b[0;31m---------------------------------------------------------------------------\u001b[0m",
            "\u001b[0;31mZeroDivisionError\u001b[0m                         Traceback (most recent call last)",
            "\u001b[0;32m<ipython-input-26-6336a804d6d9>\u001b[0m in \u001b[0;36m<module>\u001b[0;34m()\u001b[0m\n\u001b[1;32m      6\u001b[0m \u001b[0;34m\u001b[0m\u001b[0m\n\u001b[1;32m      7\u001b[0m \u001b[0;32mfor\u001b[0m \u001b[0mk\u001b[0m \u001b[0;32min\u001b[0m \u001b[0mrange\u001b[0m\u001b[0;34m(\u001b[0m\u001b[0mW\u001b[0m\u001b[0;34m//\u001b[0m\u001b[0mk\u001b[0m\u001b[0;34m)\u001b[0m\u001b[0;34m:\u001b[0m\u001b[0;34m\u001b[0m\u001b[0;34m\u001b[0m\u001b[0m\n\u001b[0;32m----> 8\u001b[0;31m     \u001b[0;32mfor\u001b[0m \u001b[0ml\u001b[0m \u001b[0;32min\u001b[0m \u001b[0mrange\u001b[0m\u001b[0;34m(\u001b[0m\u001b[0mW\u001b[0m\u001b[0;34m//\u001b[0m\u001b[0ml\u001b[0m\u001b[0;34m)\u001b[0m\u001b[0;34m:\u001b[0m\u001b[0;34m\u001b[0m\u001b[0;34m\u001b[0m\u001b[0m\n\u001b[0m\u001b[1;32m      9\u001b[0m         \u001b[0;32mif\u001b[0m \u001b[0mW\u001b[0m\u001b[0;34m==\u001b[0m \u001b[0mheigh\u001b[0m\u001b[0;34m*\u001b[0m\u001b[0mk\u001b[0m\u001b[0;34m+\u001b[0m\u001b[0mwidth\u001b[0m\u001b[0;34m*\u001b[0m\u001b[0ml\u001b[0m\u001b[0;34m:\u001b[0m\u001b[0;34m\u001b[0m\u001b[0;34m\u001b[0m\u001b[0m\n\u001b[1;32m     10\u001b[0m             \u001b[0mvalidity\u001b[0m\u001b[0;34m=\u001b[0m\u001b[0;32mTrue\u001b[0m\u001b[0;34m\u001b[0m\u001b[0;34m\u001b[0m\u001b[0m\n",
            "\u001b[0;31mZeroDivisionError\u001b[0m: integer division or modulo by zero"
          ]
        }
      ]
    },
    {
      "cell_type": "code",
      "metadata": {
        "colab": {
          "base_uri": "https://localhost:8080/"
        },
        "id": "O-x0SNTGvAF8",
        "outputId": "2fd13a0e-0009-4070-dbe6-206e5dc0284c"
      },
      "source": [
        "#2.24. Helping Deroro Quickly3"
      ],
      "execution_count": null,
      "outputs": [
        {
          "output_type": "stream",
          "text": [
            "97\n"
          ],
          "name": "stdout"
        }
      ]
    }
  ]
}