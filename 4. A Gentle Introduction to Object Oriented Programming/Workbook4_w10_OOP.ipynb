{
  "nbformat": 4,
  "nbformat_minor": 0,
  "metadata": {
    "colab": {
      "name": "Workbook4-w10-OOP.ipynb",
      "provenance": [],
      "collapsed_sections": []
    },
    "kernelspec": {
      "name": "python3",
      "display_name": "Python 3"
    },
    "language_info": {
      "name": "python"
    }
  },
  "cells": [
    {
      "cell_type": "code",
      "metadata": {
        "id": "Kz-Rfe_DPQSv"
      },
      "source": [
        "\n",
        "\n"
      ],
      "execution_count": null,
      "outputs": []
    },
    {
      "cell_type": "code",
      "metadata": {
        "colab": {
          "base_uri": "https://localhost:8080/"
        },
        "id": "VgV0eo5U0Vq4",
        "outputId": "84eda08e-5ae1-4045-a2bb-21efec7e9899"
      },
      "source": [
        "#4.1. Broken Watch \n",
        "def is_time_valid(str_time):\n",
        "    lis=str_time.split(\".\")\n",
        "    check1=False\n",
        "    check2=False\n",
        "    if len(lis)!=2:return \"False\"\n",
        "    # print(int(lis[0]))\n",
        "    # print(int(lis[1]))\n",
        "    # if int(lis[0])>=0 and int(lis[0])<=24:check1=True\n",
        "    # if int(lis[1])>=0 and int(lis[1])<=60: check2=True\n",
        "    if lis[0]>=\"00\" and lis[0]<=\"24\":check1=True\n",
        "    if lis[1]>=\"00\"and lis[1]<=\"60\": check2=True\n",
        "   \n",
        "    if check1==True and check2==True:return \"True\"\n",
        "    else: return \"False\"\n",
        "\n",
        "print(is_time_valid(\"22.65\"))\n",
        "print(is_time_valid(\"ten past eleven\"))\n",
        "print(is_time_valid(\"23.20\"))"
      ],
      "execution_count": null,
      "outputs": [
        {
          "output_type": "stream",
          "text": [
            "False\n",
            "False\n",
            "True\n"
          ],
          "name": "stdout"
        }
      ]
    },
    {
      "cell_type": "code",
      "metadata": {
        "colab": {
          "base_uri": "https://localhost:8080/"
        },
        "id": "h-zLkaFerOuP",
        "outputId": "54d524a5-19c5-4cb2-f8a3-fce1abeb2671"
      },
      "source": [
        "#4.2. Kindergarten Cipher\n",
        "def decipher(text,solution):\n",
        "    for item in solution:\n",
        "        text=text.replace(item[0],item[1])\n",
        "    return text\n",
        "\n",
        "\n",
        "print(decipher(\"H45k3ll 15 4 g3n3r4l-purpo53, 5t4t1c4lly typ3d, pur3ly funct1on4l progr4mm1ng l4ngu4g3 w1th typ3 1nf3r3nc3 4nd l4zy 3v4lu4t1on.\", \n",
        "               [(\"3\", \"e\"), (\"4\", \"a\"), (\"5\", \"s\"), (\"1\", \"i\")]))\n",
        "print(decipher(\"APL (nam3d af73r 7h3 b00k A Pr0gramming Languag3) is a pr0gramming languag3 d3v3l0p3d by K3nn37h 3. Iv3rs0n. I7s c3n7ral da7a7yp3 is 7h3 mul7idim3nsi0nal array.\", \n",
        "               [(\"7\", \"t\"), (\"3\", \"e\"), (\"0\", \"o\")]))"
      ],
      "execution_count": null,
      "outputs": [
        {
          "output_type": "stream",
          "text": [
            "Haskell is a general-purpose, statically typed, purely functional programming language with type inference and lazy evaluation.\n",
            "APL (named after the book A Programming Language) is a programming language developed by Kenneth e. Iverson. Its central datatype is the multidimensional array.\n"
          ],
          "name": "stdout"
        }
      ]
    },
    {
      "cell_type": "code",
      "metadata": {
        "colab": {
          "base_uri": "https://localhost:8080/"
        },
        "id": "3OSUuY0QtsiR",
        "outputId": "bda495f0-c446-40e1-d0a3-34f860779129"
      },
      "source": [
        "#4.3. Exercise: Maximum Occurrence\n",
        "def maximum_occurrence(num_list):\n",
        "    max_occ=num_list[0]\n",
        "    max_occ_adet=num_list.count(num_list[0])\n",
        "    for item in num_list:\n",
        "        if num_list.count(item)>max_occ_adet:max_occ=item\n",
        "    return max_occ\n",
        "\n",
        "#help(str)\n",
        "\n",
        "\n",
        "\n",
        "print(maximum_occurrence([1,1,1,0,4,4]))\n",
        "print(maximum_occurrence([0,3,3,3,1,0]))"
      ],
      "execution_count": null,
      "outputs": [
        {
          "output_type": "stream",
          "text": [
            "1\n",
            "3\n"
          ],
          "name": "stdout"
        }
      ]
    },
    {
      "cell_type": "code",
      "metadata": {
        "id": "kuCAz97nFa_B",
        "colab": {
          "base_uri": "https://localhost:8080/"
        },
        "outputId": "a3c74845-cbb2-4cef-cfa5-f04d30ca5f0e"
      },
      "source": [
        "#4.4. Reverse Left \n",
        "def reverse_left(list_1,num):\n",
        "    ind=list_1.index(num)\n",
        "    new_list=list_1[0:ind]\n",
        "    new_list.reverse()\n",
        "    new_list.extend(list_1[ind:])\n",
        "    return new_list\n",
        "    \n",
        "\n",
        "\n",
        "\n",
        "print(reverse_left([8,1,4,5,6,6,3,2], 6))\n",
        "#help(list)\n",
        "print(reverse_left([64, 51, 77, 34, 77, 39, 57, 67, 58, 63, 51], 39))"
      ],
      "execution_count": null,
      "outputs": [
        {
          "output_type": "stream",
          "text": [
            "[5, 4, 1, 8, 6, 6, 3, 2]\n",
            "[77, 34, 77, 51, 64, 39, 57, 67, 58, 63, 51]\n"
          ],
          "name": "stdout"
        }
      ]
    },
    {
      "cell_type": "code",
      "metadata": {
        "colab": {
          "base_uri": "https://localhost:8080/"
        },
        "id": "N4VhOzenX1_n",
        "outputId": "81af7982-a214-4ff4-e90b-09517b4253a7"
      },
      "source": [
        "#4.5. Shopping List\n",
        "def readable(mixed_str):\n",
        "    splitted_list=mixed_str.split(\",\")\n",
        "    new_list=[]\n",
        "    for item in splitted_list:\n",
        "        x=item.lower()\n",
        "        y=x.strip()\n",
        "        print(y)\n",
        "        new_list.append(y)\n",
        "        \n",
        "print(readable(\"LemOn,   gaRlic, PASta\"))\n",
        "#help(str)\n",
        "readable(\"CheeSe, cHeesE,    CHEESE\")"
      ],
      "execution_count": null,
      "outputs": [
        {
          "output_type": "stream",
          "text": [
            "lemon\n",
            "garlic\n",
            "pasta\n",
            "None\n",
            "cheese\n",
            "cheese\n",
            "cheese\n"
          ],
          "name": "stdout"
        }
      ]
    },
    {
      "cell_type": "code",
      "metadata": {
        "colab": {
          "base_uri": "https://localhost:8080/"
        },
        "id": "WMnNwUVvFdqO",
        "outputId": "1aa5b508-c7f3-4b55-ce3a-577100bb53bf"
      },
      "source": [
        "#4.6. Exercise: Arimu and Hats \n",
        "def buy_hats(hat_list,money):\n",
        "    hat_list.sort()\n",
        "    i=0\n",
        "    \n",
        "    while money>0:\n",
        "        i+=1\n",
        "        if i==len(hat_list):\n",
        "            break\n",
        "        money-=hat_list[i]\n",
        "    return i\n",
        "\n",
        "\n",
        "print(buy_hats([12, 3, 7, 5, 4, 8], 12))\n",
        "print(buy_hats([4, 3, 6, 2, 5, 5], 27))"
      ],
      "execution_count": null,
      "outputs": [
        {
          "output_type": "stream",
          "text": [
            "3\n",
            "6\n"
          ],
          "name": "stdout"
        }
      ]
    },
    {
      "cell_type": "code",
      "metadata": {
        "colab": {
          "base_uri": "https://localhost:8080/"
        },
        "id": "WJQjmczPH6nd",
        "outputId": "65499a37-5a12-47b8-f432-cc14ae1512ea"
      },
      "source": [
        "#4.7. Is Diagonal\n",
        "def is_diagonal(matrix):\n",
        "    check=True\n",
        "    for i in range(len(matrix)):\n",
        "        for j in range(len(matrix[0])):\n",
        "            if i!=j:\n",
        "                if matrix[i][j]!=0:\n",
        "                    check=False\n",
        "\n",
        "\n",
        "    if check==False:return False\n",
        "    if check==True:return True\n",
        "\n",
        "print(is_diagonal([[1,0,0],[0,1,0],[0,0,1]]))\n",
        "print(is_diagonal([[1,1,1],[2,4,0],[3,3,3]]))"
      ],
      "execution_count": null,
      "outputs": [
        {
          "output_type": "stream",
          "text": [
            "True\n",
            "False\n"
          ],
          "name": "stdout"
        }
      ]
    },
    {
      "cell_type": "code",
      "metadata": {
        "colab": {
          "base_uri": "https://localhost:8080/"
        },
        "id": "pYq9trKYJu6k",
        "outputId": "9efae703-8121-4d17-a1ea-b3e699acb319"
      },
      "source": [
        "#4.8. Capitalize Sentences\n",
        "def capitalize_sentences(string):\n",
        "    first=string\n",
        "    seperators=[\".\",\"!\",\"?\"]\n",
        "    final_str=\"\"\n",
        "   \n",
        "    for sep in seperators:\n",
        "        string_list=string.split(sep)\n",
        "        string_list_n=[]\n",
        "        for each_part in string_list:\n",
        "            each_part=each_part.strip()\n",
        "            # print(each_part)\n",
        "            if len(each_part)>0:\n",
        "                part1=each_part[0].upper()\n",
        "                # print(part1)\n",
        "                part2=each_part[1:]\n",
        "                string_list_n+=[part1+part2]\n",
        "        string=sep.join(string_list_n)\n",
        "           \n",
        "    return string+first[-1]\n",
        "\n",
        "#help(str)\n",
        "print(capitalize_sentences('lorem. ipsum? dolor sit amet, consectetur! adipiscing elit.'))\n",
        "print(capitalize_sentences('string methods are really useful in Python! you need to know them to succeed in CENG240.'))"
      ],
      "execution_count": null,
      "outputs": [
        {
          "output_type": "stream",
          "text": [
            "Lorem.Ipsum?Dolor sit amet, consectetur!Adipiscing elit.\n",
            "String methods are really useful in Python!You need to know them to succeed in CENG240.\n"
          ],
          "name": "stdout"
        }
      ]
    },
    {
      "cell_type": "code",
      "metadata": {
        "id": "i6prmngmPX-O",
        "colab": {
          "base_uri": "https://localhost:8080/"
        },
        "outputId": "94d844d4-d7a1-446c-b252-6821a823e821"
      },
      "source": [
        "#4.9. Exercise: Database Recovery\n",
        "def reinstall(old_string):\n",
        "    empt_dict={}\n",
        "    list_1=old_string.split(\" |=| \")\n",
        "    for i in range(len(list_1)):\n",
        "        if i==0:list_1[0]=list_1[i][2:]\n",
        "        if i==len(list_1)-1:\n",
        "            list_1[i]=list_1[i][:-2]\n",
        "        \n",
        "        list_2=list_1[i].split(\":\")\n",
        "        for j in range(len(list_2)):\n",
        "            if j%2==0:\n",
        "                keys=list_2[j].lower()\n",
        "                keys=keys[0].upper()+keys[1:]\n",
        "                empt_dict[keys]=int(list_2[j+1])\n",
        "    return empt_dict\n",
        "        \n",
        "##help(str)\n",
        "print(reinstall(\"| ahmet : 16 |=| Mehmet : 19 |=| selin : 32 |=| PINAR : 8 |\"))\n",
        "print(reinstall(\"| SiLa : 2 |=| AbDuLlAh : 28 |=| PeLIN : 49 |=| PolaT : 99 |\"))"
      ],
      "execution_count": null,
      "outputs": [
        {
          "output_type": "stream",
          "text": [
            "{'Ahmet ': 16, 'Mehmet ': 19, 'Selin ': 32, 'Pinar ': 8}\n",
            "{'Sila ': 2, 'Abdullah ': 28, 'Pelin ': 49, 'Polat ': 99}\n"
          ],
          "name": "stdout"
        }
      ]
    },
    {
      "cell_type": "code",
      "metadata": {
        "colab": {
          "base_uri": "https://localhost:8080/"
        },
        "id": "1y3ce04xkmsX",
        "outputId": "d9210249-6eb6-4eda-e189-d885817d249b"
      },
      "source": [
        "#4.10. Single Sorted Copy\n",
        "def single_sorted_copy(num_list):\n",
        "    num_list.sort()\n",
        "    num_set=set(num_list)\n",
        "    new_list=list(num_set)\n",
        "    return new_list\n",
        "# help(list)\n",
        "print(single_sorted_copy([3, 3, 2, 2, 1, 1]))\n",
        "print(single_sorted_copy([1, 3, 2, 2, 1, 1, 4]))"
      ],
      "execution_count": null,
      "outputs": [
        {
          "output_type": "stream",
          "text": [
            "[1, 2, 3]\n",
            "[1, 2, 3, 4]\n"
          ],
          "name": "stdout"
        }
      ]
    }
  ]
}