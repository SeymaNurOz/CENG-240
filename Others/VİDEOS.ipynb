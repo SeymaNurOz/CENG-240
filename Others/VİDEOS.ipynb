{
  "nbformat": 4,
  "nbformat_minor": 0,
  "metadata": {
    "colab": {
      "name": "VİDEOS.ipynb",
      "provenance": [],
      "collapsed_sections": []
    },
    "kernelspec": {
      "name": "python3",
      "display_name": "Python 3"
    },
    "language_info": {
      "name": "python"
    }
  },
  "cells": [
    {
      "cell_type": "code",
      "metadata": {
        "id": "Qg2hdZiPj3Fu"
      },
      "source": [
        "\n"
      ],
      "execution_count": null,
      "outputs": []
    },
    {
      "cell_type": "code",
      "metadata": {
        "colab": {
          "base_uri": "https://localhost:8080/"
        },
        "id": "wi4Axxb264La",
        "outputId": "5ac72071-f333-4f78-9636-b59d265e6815"
      },
      "source": [
        "a = int(input())\n",
        "if a < 100 : print(a,\"less than 100\")\n",
        "else : print(a,\"is not less than 100\")\n",
        "if a%2==0:\n",
        "  b = 3\n",
        "  print(\"a is even\")\n",
        "else:\n",
        "  b=5\n",
        "  print(\"a is odd\")"
      ],
      "execution_count": null,
      "outputs": [
        {
          "output_type": "stream",
          "text": [
            "8999\n",
            "8999 is not less than 100\n"
          ],
          "name": "stdout"
        }
      ]
    },
    {
      "cell_type": "code",
      "metadata": {
        "id": "dFa573Gc87UP"
      },
      "source": [
        "x = -82\n",
        "list = [x**3] for "
      ],
      "execution_count": null,
      "outputs": []
    },
    {
      "cell_type": "code",
      "metadata": {
        "colab": {
          "base_uri": "https://localhost:8080/"
        },
        "id": "h1A2RUUvDsli",
        "outputId": "59c259d9-1445-4eec-bc37-91eda55b6b77"
      },
      "source": [
        "n= 326\n",
        "g = int(input(\"guess the number\"))\n",
        "while g!=n:\n",
        "  print(\"wrong guess\")\n",
        "  g = int(input(\"guess another number\"))\n",
        "print(\"you won\")"
      ],
      "execution_count": null,
      "outputs": [
        {
          "output_type": "stream",
          "text": [
            "guess the number45\n",
            "wrong guess\n",
            "guess another number3258\n",
            "wrong guess\n",
            "guess another number656153\n",
            "wrong guess\n",
            "guess another number2565\n",
            "wrong guess\n",
            "guess another number326\n",
            "you won\n"
          ],
          "name": "stdout"
        }
      ]
    },
    {
      "cell_type": "code",
      "metadata": {
        "id": "AT4gpKg8EoB3"
      },
      "source": [
        "n= 10001\n",
        "for x in range(2,n//2,1):\n",
        "  if n%x==0:\n",
        "    print(\"Number is not prime\")\n",
        "    break"
      ],
      "execution_count": null,
      "outputs": []
    },
    {
      "cell_type": "code",
      "metadata": {
        "colab": {
          "base_uri": "https://localhost:8080/"
        },
        "id": "f_Kx7ZXTKXXs",
        "outputId": "2f20ad52-af6e-4d08-aa82-f0c9eca3f697"
      },
      "source": [
        "#Lucky Division-4-7-almost lucky #WEEK5 3/4\n",
        "lucky_num=[4,7,44,47,74,77,444,447,474,477,744,747,774,777]\n",
        "n = int(input(\"Enter a 3 digit positive number\"))\n",
        "\n",
        "isAlmostLucky = False\n",
        "\n",
        "for x in lucky_num:\n",
        "    if n==x and n%x==0:\n",
        "        print(n, \"is an almost lucky number\")\n",
        "        isAlmostLucky=True\n",
        "        break\n",
        "    \n",
        "if isAlmostLucky==False :\n",
        "    print(n,\"is not an almost lucky number\")\n",
        "\n"
      ],
      "execution_count": null,
      "outputs": [
        {
          "output_type": "stream",
          "text": [
            "Enter a 3 digit positive number778\n",
            "778 is not an almost lucky number\n"
          ],
          "name": "stdout"
        }
      ]
    },
    {
      "cell_type": "code",
      "metadata": {
        "colab": {
          "base_uri": "https://localhost:8080/"
        },
        "id": "mqD8mS0AO-oJ",
        "outputId": "3c45f10e-49f0-4122-9057-c0398162d31b"
      },
      "source": [
        "#Big Brother Weight #WEEK5 3/4\n",
        "small=int(input(\"enter small\"))\n",
        "b=int(input(\"enter b\"))\n",
        "year = 0\n",
        "while small>b:\n",
        "    print(\" small should be less or equal to b\")\n",
        "    small=int(input(\"enter small\"))\n",
        "    b=int(input(\"enter b\"))\n",
        "while small<=b:\n",
        "    year +=1\n",
        "    small*=3\n",
        "    b*=2\n",
        "print(year)\n"
      ],
      "execution_count": null,
      "outputs": [
        {
          "output_type": "stream",
          "text": [
            "enter small5\n",
            "enter b5\n",
            "1\n"
          ],
          "name": "stdout"
        }
      ]
    },
    {
      "cell_type": "code",
      "metadata": {
        "id": "V3uRGxH1PPA9",
        "colab": {
          "base_uri": "https://localhost:8080/",
          "height": 245
        },
        "outputId": "9f574bf4-44e5-4401-8f3e-a43fcc35d9e8"
      },
      "source": [
        "# #Prime factor #WEEK 5  4/4\n",
        "# n=int(input(\"enter positive integer\"))\n",
        "\n",
        "# p = 2\n",
        "# prime_factors=[]\n",
        "# while p*p<=n:\n",
        "#     while n>0 and n%p==0:\n",
        "#             if  not p in prime_factors:\n",
        "#                 prime_factors.append(p)\n",
        "#                 n=n//p\n",
        "#     p=p+1\n",
        "\n",
        "# if n>1 and n not in prime_factors:\n",
        "#     prime_factors += [n]\n",
        "# print(prime_factors)\n"
      ],
      "execution_count": null,
      "outputs": [
        {
          "output_type": "stream",
          "text": [
            "enter positive integer60\n"
          ],
          "name": "stdout"
        },
        {
          "output_type": "error",
          "ename": "KeyboardInterrupt",
          "evalue": "ignored",
          "traceback": [
            "\u001b[0;31m---------------------------------------------------------------------------\u001b[0m",
            "\u001b[0;31mKeyboardInterrupt\u001b[0m                         Traceback (most recent call last)",
            "\u001b[0;32m<ipython-input-1-8f88b0c75f5d>\u001b[0m in \u001b[0;36m<module>\u001b[0;34m()\u001b[0m\n\u001b[1;32m      5\u001b[0m \u001b[0mprime_factors\u001b[0m\u001b[0;34m=\u001b[0m\u001b[0;34m[\u001b[0m\u001b[0;34m]\u001b[0m\u001b[0;34m\u001b[0m\u001b[0;34m\u001b[0m\u001b[0m\n\u001b[1;32m      6\u001b[0m \u001b[0;32mwhile\u001b[0m \u001b[0mp\u001b[0m\u001b[0;34m*\u001b[0m\u001b[0mp\u001b[0m\u001b[0;34m<=\u001b[0m\u001b[0mn\u001b[0m\u001b[0;34m:\u001b[0m\u001b[0;34m\u001b[0m\u001b[0;34m\u001b[0m\u001b[0m\n\u001b[0;32m----> 7\u001b[0;31m     \u001b[0;32mwhile\u001b[0m \u001b[0mn\u001b[0m\u001b[0;34m>\u001b[0m\u001b[0;36m0\u001b[0m \u001b[0;32mand\u001b[0m \u001b[0mn\u001b[0m\u001b[0;34m%\u001b[0m\u001b[0mp\u001b[0m\u001b[0;34m==\u001b[0m\u001b[0;36m0\u001b[0m\u001b[0;34m:\u001b[0m\u001b[0;34m\u001b[0m\u001b[0;34m\u001b[0m\u001b[0m\n\u001b[0m\u001b[1;32m      8\u001b[0m             \u001b[0;32mif\u001b[0m  \u001b[0;32mnot\u001b[0m \u001b[0mp\u001b[0m \u001b[0;32min\u001b[0m \u001b[0mprime_factors\u001b[0m\u001b[0;34m:\u001b[0m\u001b[0;34m\u001b[0m\u001b[0;34m\u001b[0m\u001b[0m\n\u001b[1;32m      9\u001b[0m                 \u001b[0mprime_factors\u001b[0m\u001b[0;34m.\u001b[0m\u001b[0mappend\u001b[0m\u001b[0;34m(\u001b[0m\u001b[0mp\u001b[0m\u001b[0;34m)\u001b[0m\u001b[0;34m\u001b[0m\u001b[0;34m\u001b[0m\u001b[0m\n",
            "\u001b[0;31mKeyboardInterrupt\u001b[0m: "
          ]
        }
      ]
    },
    {
      "cell_type": "code",
      "metadata": {
        "colab": {
          "base_uri": "https://localhost:8080/"
        },
        "id": "dtEg-riP0WK7",
        "outputId": "b671cb32-14f8-4a09-b887-dd18079ba1b2"
      },
      "source": [
        "##7 den fazla 0 ya da 1 yanyanaysa tehlikel\n",
        "f = input(\"Enter a string composed of 1s and 0s :\")\n",
        "\n",
        "prev=\"-\"\n",
        "cnt= 1\n",
        "isDangerous= False\n",
        "for x in f:\n",
        "    if not x==prev:\n",
        "        prev=x\n",
        "        cnt=1\n",
        "    else:\n",
        "        cnt += 1\n",
        "        if cnt==7:\n",
        "            isDangerous= True\n",
        "            break\n",
        "if isDangerous:\n",
        "    print(\"It is dangerous\")\n",
        "else:\n",
        "    print(\"It is NOT dangerous\")"
      ],
      "execution_count": null,
      "outputs": [
        {
          "output_type": "stream",
          "text": [
            "Enter a string composed of 1s and 0s :100000000000001111\n",
            "It is dangerous\n"
          ],
          "name": "stdout"
        }
      ]
    },
    {
      "cell_type": "code",
      "metadata": {
        "colab": {
          "base_uri": "https://localhost:8080/"
        },
        "id": "MUiRKRLskEfN",
        "outputId": "f636a091-2725-4e11-81c2-779233bea4a6"
      },
      "source": [
        "# FUNCTIONS-W  3/4\n",
        "def swap(my_list,ind1,ind2):\n",
        "    tmp=my_list[ind1]\n",
        "    my_list[ind1]=my_list[ind2]\n",
        "    my_list[ind2]=tmp\n",
        "\n",
        "def find_min_ıdx(my_list):\n",
        "    if len(my_list)<2: return 0  \n",
        "    \n",
        "    current_min=my_list[0]\n",
        "    min_index=0\n",
        "    for i in range(len(my_list)):\n",
        "        if my_list[i]<current_min:\n",
        "            current_min=my_list[i]\n",
        "            min_index=i\n",
        "    return min_index\n",
        "\n",
        "def sort(my_list):\n",
        "    for i in range(len(my_list)):\n",
        "        min_index=find_min_ıdx(my_list[i:])\n",
        "        swap(my_list,i+min_index,i)\n",
        "import random\n",
        "\n",
        "\n",
        "liste=[random.randrange(1000) for i in range(100)]\n",
        "print(\"Before sorting:\",liste)\n",
        "sort(liste)\n",
        "print(liste)\n",
        "\n",
        "\n"
      ],
      "execution_count": null,
      "outputs": [
        {
          "output_type": "stream",
          "text": [
            "Before sorting: [361, 426, 720, 596, 959, 468, 252, 738, 828, 367, 932, 63, 763, 502, 31, 688, 662, 612, 994, 788, 709, 255, 705, 1, 676, 785, 499, 106, 869, 147, 723, 478, 251, 866, 745, 669, 832, 631, 861, 322, 284, 717, 988, 659, 431, 839, 149, 840, 904, 814, 481, 810, 787, 387, 179, 867, 222, 723, 453, 855, 490, 193, 563, 832, 343, 287, 452, 787, 542, 51, 334, 542, 293, 389, 354, 959, 281, 727, 605, 932, 605, 994, 896, 447, 276, 117, 204, 31, 136, 974, 56, 98, 741, 110, 934, 243, 786, 910, 862, 724]\n",
            "[1, 31, 31, 51, 56, 63, 98, 106, 110, 117, 136, 147, 149, 179, 193, 204, 222, 243, 251, 252, 255, 276, 281, 284, 287, 293, 322, 334, 343, 354, 361, 367, 387, 389, 426, 431, 447, 452, 453, 468, 478, 481, 490, 499, 502, 542, 542, 563, 596, 605, 605, 612, 631, 659, 662, 669, 676, 688, 705, 709, 717, 720, 723, 723, 724, 727, 738, 741, 745, 763, 785, 786, 787, 787, 788, 810, 814, 828, 832, 832, 839, 840, 855, 861, 862, 866, 867, 869, 896, 904, 910, 932, 932, 934, 959, 959, 974, 988, 994, 994]\n"
          ],
          "name": "stdout"
        }
      ]
    },
    {
      "cell_type": "code",
      "metadata": {
        "colab": {
          "base_uri": "https://localhost:8080/"
        },
        "id": "q0PQxAhHZ3Ge",
        "outputId": "7b277846-2ae9-4845-a061-341182eac17a"
      },
      "source": [
        "#Fuction W7  4/4\n",
        "def f(n):\n",
        "    \n",
        "    if n==0:return 1\n",
        "    else:return n*f(n-1)\n",
        "\n",
        "print(f(12))\n",
        "\n",
        "##\n",
        "\n",
        "\n",
        "    "
      ],
      "execution_count": null,
      "outputs": [
        {
          "output_type": "stream",
          "text": [
            "479001600\n"
          ],
          "name": "stdout"
        }
      ]
    },
    {
      "cell_type": "code",
      "metadata": {
        "colab": {
          "base_uri": "https://localhost:8080/"
        },
        "id": "uvj8HzFgbDK2",
        "outputId": "8d09eef4-9587-4a91-ce4e-9c372eb52be8"
      },
      "source": [
        "#fUNCTİON-RECURSION  W7 4/4\n",
        "def swap(my_list,ind1,ind2):\n",
        "    tmp=my_list[ind1]\n",
        "    my_list[ind1]=my_list[ind2]\n",
        "    my_list[ind2]=tmp\n",
        "\n",
        "##REURSIVE FUNCTIONS REQUIRES MORE TIME AND MEMORY\n",
        "def find_min_recursivve(my_list):\n",
        "    if len(my_list)<2: return 0\n",
        "    x = find_min_recursivve(my_list[1::])\n",
        "    if my_list[0]<my_list[x+1]: return 0 \n",
        "    else:return x+1\n",
        "\n",
        "def find_min_ıdx(my_list):\n",
        "    if len(my_list)<2: return 0  \n",
        "    \n",
        "    current_min=my_list[0]\n",
        "    min_index=0\n",
        "    for i in range(len(my_list)):\n",
        "        if my_list[i]<current_min:\n",
        "            current_min=my_list[i]\n",
        "            min_index=i\n",
        "    return min_index\n",
        "\n",
        "def sort(my_list):\n",
        "    for i in range(len(my_list)):\n",
        "        min_index=find_min_recursivve(my_list[i:])\n",
        "        swap(my_list,i+min_index,i)\n",
        "import random\n",
        "\n",
        "\n",
        "liste=[random.randrange(1000) for i in range(100)]\n",
        "print(\"Before sorting:\",liste)\n",
        "sort(liste)\n",
        "print(liste)\n"
      ],
      "execution_count": null,
      "outputs": [
        {
          "output_type": "stream",
          "text": [
            "Before sorting: [82, 714, 253, 702, 948, 109, 689, 802, 900, 363, 670, 148, 843, 605, 473, 738, 837, 529, 130, 40, 190, 457, 854, 394, 562, 85, 393, 238, 120, 188, 590, 646, 663, 123, 755, 474, 841, 632, 252, 785, 639, 961, 791, 991, 294, 160, 394, 619, 5, 183, 441, 827, 76, 118, 522, 827, 309, 877, 617, 488, 454, 204, 105, 40, 258, 304, 719, 371, 771, 902, 69, 848, 709, 316, 217, 230, 640, 187, 497, 612, 637, 63, 167, 794, 195, 241, 137, 669, 860, 773, 323, 485, 761, 224, 297, 170, 435, 799, 656, 612]\n",
            "[5, 40, 40, 63, 69, 76, 82, 85, 105, 109, 118, 120, 123, 130, 137, 148, 160, 167, 170, 183, 187, 188, 190, 195, 204, 217, 224, 230, 238, 241, 252, 253, 258, 294, 297, 304, 309, 316, 323, 363, 371, 393, 394, 394, 435, 441, 454, 457, 473, 474, 485, 488, 497, 522, 529, 562, 590, 605, 612, 612, 617, 619, 632, 637, 639, 640, 646, 656, 663, 669, 670, 689, 702, 709, 714, 719, 738, 755, 761, 771, 773, 785, 791, 794, 799, 802, 827, 827, 837, 841, 843, 848, 854, 860, 877, 900, 902, 948, 961, 991]\n"
          ],
          "name": "stdout"
        }
      ]
    },
    {
      "cell_type": "code",
      "metadata": {
        "colab": {
          "base_uri": "https://localhost:8080/"
        },
        "id": "aGl9K2777DCk",
        "outputId": "41f0ffd5-ccf1-4062-e240-fbfd03fc1371"
      },
      "source": [
        "#OOP/W10\n",
        "import math \n",
        "class Rational:\n",
        "    def __init__(self,n,d):\n",
        "        if d==0:\n",
        "            raise ZeroDivissionError\n",
        "        self.num=n\n",
        "        self.den=d\n",
        "        self.simplify()\n",
        "    \n",
        "    def simplify(self):\n",
        "        if self.num==0:\n",
        "            self.den=1\n",
        "            return\n",
        "        gcd =math.gcd(self.num,self.den)\n",
        "        \n",
        "        if self.den<0:\n",
        "            self.den*=-1\n",
        "            sel.num*=-1\n",
        "\n",
        "        self.num=self.num//gcd\n",
        "        self.den=self.den//gcd\n",
        "\n",
        "    def __str__(self):\n",
        "        return \"{}/{}\".format(self.num,self.den)\n",
        "\n",
        "    def __mul__(self,rhs):\n",
        "        retval=Rational(self.num*rhs.num,self.den*rhs.den)\n",
        "        return retval\n",
        "\n",
        "    def __add__(self,rhs):\n",
        "        retval=Rational(self.num*rhs.den+self.den*rhs.num,rhs.den*self.den)\n",
        "        return retval\n",
        "\n",
        "    def __eq__(self,rhs):\n",
        "        return self.num*rhs.den==self.den*rhs.num\n",
        "\n",
        "a=Rational(3,9)\n",
        "print(a)\n",
        "b = Rational(16, 24)\n",
        "print(a, b, a*b+b*a)\n",
        "print( a+b == Rational(1, 1))"
      ],
      "execution_count": null,
      "outputs": [
        {
          "output_type": "stream",
          "text": [
            "1/3\n",
            "1/3 2/3 4/9\n",
            "True\n"
          ],
          "name": "stdout"
        }
      ]
    }
  ]
}